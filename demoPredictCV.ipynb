{
  "nbformat": 4,
  "nbformat_minor": 0,
  "metadata": {
    "colab": {
      "provenance": [],
      "toc_visible": true,
      "mount_file_id": "18ATtB_RLK3t1A2uqCdIV_K3J216DBh6w",
      "authorship_tag": "ABX9TyMRc4xjl5DYAduDmW29UCMf",
      "include_colab_link": true
    },
    "kernelspec": {
      "name": "python3",
      "display_name": "Python 3"
    },
    "language_info": {
      "name": "python"
    }
  },
  "cells": [
    {
      "cell_type": "markdown",
      "metadata": {
        "id": "view-in-github",
        "colab_type": "text"
      },
      "source": [
        "<a href=\"https://colab.research.google.com/github/tranhuuan170302/demoCV/blob/main/demoPredictCV.ipynb\" target=\"_parent\"><img src=\"https://colab.research.google.com/assets/colab-badge.svg\" alt=\"Open In Colab\"/></a>"
      ]
    },
    {
      "cell_type": "markdown",
      "source": [
        "# Import libraries"
      ],
      "metadata": {
        "id": "OTwQm2oOVPsZ"
      }
    },
    {
      "cell_type": "code",
      "execution_count": null,
      "metadata": {
        "id": "5DMNnXQkVJWn"
      },
      "outputs": [],
      "source": [
        "import pandas as pd\n",
        "import re\n",
        "import matplotlib.pyplot as plt\n",
        "import seaborn as sns\n",
        "from itertools import cycle, islice\n",
        "import pandas as pd, numpy as np\n",
        "from sklearn.model_selection import train_test_split\n",
        "from sklearn import metrics\n",
        "from sklearn.metrics import classification_report\n",
        "from sklearn.metrics import confusion_matrix \n",
        "from sklearn.model_selection import train_test_split\n",
        "from sklearn.tree import DecisionTreeClassifier\n",
        "from sklearn.linear_model import LogisticRegression\n",
        "from sklearn.neural_network import MLPClassifier\n",
        "from textblob import TextBlob\n",
        "from sklearn.tree import DecisionTreeClassifier\n",
        "sns.set()"
      ]
    },
    {
      "cell_type": "markdown",
      "source": [
        "# Read file csv"
      ],
      "metadata": {
        "id": "Srpygk_bVTeY"
      }
    },
    {
      "cell_type": "code",
      "source": [
        "df = pd.read_csv('/content/drive/MyDrive/topDev/data.csv')"
      ],
      "metadata": {
        "id": "wZelSjTMVS2U"
      },
      "execution_count": null,
      "outputs": []
    },
    {
      "cell_type": "markdown",
      "source": [
        "\n",
        "\n",
        "\n",
        "\n",
        "\n",
        "## Xem dữ liệu tổng quan"
      ],
      "metadata": {
        "id": "tUjJoOn4VicF"
      }
    },
    {
      "cell_type": "code",
      "source": [
        "# xem thông tin dữ liệu bao gồm cột, số lượng dòng dữ liệu của các cột, kiểu dữ của các cột\n",
        "df.info()"
      ],
      "metadata": {
        "colab": {
          "base_uri": "https://localhost:8080/"
        },
        "id": "nPnYic6SVZ1t",
        "outputId": "0ca1fd6f-5eb6-451d-8347-e51af5032ef5"
      },
      "execution_count": null,
      "outputs": [
        {
          "output_type": "stream",
          "name": "stdout",
          "text": [
            "<class 'pandas.core.frame.DataFrame'>\n",
            "RangeIndex: 2029 entries, 0 to 2028\n",
            "Data columns (total 5 columns):\n",
            " #   Column              Non-Null Count  Dtype \n",
            "---  ------              --------------  ----- \n",
            " 0   Unnamed: 0          2029 non-null   int64 \n",
            " 1   title               2029 non-null   object\n",
            " 2   skill               2029 non-null   object\n",
            " 3   address             2028 non-null   object\n",
            " 4   skillAndExperience  1989 non-null   object\n",
            "dtypes: int64(1), object(4)\n",
            "memory usage: 79.4+ KB\n"
          ]
        }
      ]
    },
    {
      "cell_type": "code",
      "source": [
        "# xe cấu trúc của dữ liệu và các giá trị của dữ liệu\n",
        "df.head()"
      ],
      "metadata": {
        "colab": {
          "base_uri": "https://localhost:8080/",
          "height": 206
        },
        "id": "ztbS4TlqVrMd",
        "outputId": "84c71ae5-11a9-4ac1-99e4-4b7507562f0a"
      },
      "execution_count": null,
      "outputs": [
        {
          "output_type": "execute_result",
          "data": {
            "text/plain": [
              "   Unnamed: 0                                              title  \\\n",
              "0           0             ASP.NET Developer (C# .NET/SQL Server)   \n",
              "1           1               Mid/Senior .NET Dev - $2800 (+Bonus)   \n",
              "2           2  Fulltime/Freelancer - Backend Dev (C#, .NET, N...   \n",
              "3           3                      .Net Developer (.NETCore, C#)   \n",
              "4           4  Sign in bonus - C#, .NET, Angular Dev -Upto 2000$   \n",
              "\n",
              "                                    skill  \\\n",
              "0  [\\n.NET\\n\\n, \\nSQL\\n\\n, \\nASP.NET\\n\\n]   \n",
              "1  [\\n.NET\\n\\n, \\nSQL\\n\\n, \\nEnglish\\n\\n]   \n",
              "2    [\\nC#\\n\\n, \\nNodeJS\\n\\n, \\n.NET\\n\\n]   \n",
              "3    [\\n.NET\\n\\n, \\nC#\\n\\n, \\nNodeJS\\n\\n]   \n",
              "4   [\\nC#\\n\\n, \\n.NET\\n\\n, \\nAngular\\n\\n]   \n",
              "\n",
              "                                             address  \\\n",
              "0  \\n153 Ung Van Khiem, Ward 25, Binh Thanh Distr...   \n",
              "1  \\n2 Nguyen The Loc, Ward 12, Tan Binh, Ho Chi ...   \n",
              "2  \\nTầng 2, Indochina Riverside - 74 Bạch Đằng, ...   \n",
              "3  \\nLotte Tower, 54 Lieu Giai, Ba Dinh, Ha Noi\\n...   \n",
              "4  \\nHoa Binh Tower, 106 Hoang Quoc Viet, Nghia D...   \n",
              "\n",
              "                                  skillAndExperience  \n",
              "0  \\n\\nWorking with young, healthy, ambitious and...  \n",
              "1  \\nCompetitive Salary and Brilliant Health Bene...  \n",
              "2  \\nNgày nghỉ:Nghỉ lễ, nghỉ phép, nghỉ việc riên...  \n",
              "3  \\nPanasonic R&D Center Vietnam was established...  \n",
              "4  \\nThu nhập cạnh tranh và nhiều cơ hội phát tri...  "
            ],
            "text/html": [
              "\n",
              "  <div id=\"df-a25d2937-d58d-4862-8429-bc59c63ccbbb\">\n",
              "    <div class=\"colab-df-container\">\n",
              "      <div>\n",
              "<style scoped>\n",
              "    .dataframe tbody tr th:only-of-type {\n",
              "        vertical-align: middle;\n",
              "    }\n",
              "\n",
              "    .dataframe tbody tr th {\n",
              "        vertical-align: top;\n",
              "    }\n",
              "\n",
              "    .dataframe thead th {\n",
              "        text-align: right;\n",
              "    }\n",
              "</style>\n",
              "<table border=\"1\" class=\"dataframe\">\n",
              "  <thead>\n",
              "    <tr style=\"text-align: right;\">\n",
              "      <th></th>\n",
              "      <th>Unnamed: 0</th>\n",
              "      <th>title</th>\n",
              "      <th>skill</th>\n",
              "      <th>address</th>\n",
              "      <th>skillAndExperience</th>\n",
              "    </tr>\n",
              "  </thead>\n",
              "  <tbody>\n",
              "    <tr>\n",
              "      <th>0</th>\n",
              "      <td>0</td>\n",
              "      <td>ASP.NET Developer (C# .NET/SQL Server)</td>\n",
              "      <td>[\\n.NET\\n\\n, \\nSQL\\n\\n, \\nASP.NET\\n\\n]</td>\n",
              "      <td>\\n153 Ung Van Khiem, Ward 25, Binh Thanh Distr...</td>\n",
              "      <td>\\n\\nWorking with young, healthy, ambitious and...</td>\n",
              "    </tr>\n",
              "    <tr>\n",
              "      <th>1</th>\n",
              "      <td>1</td>\n",
              "      <td>Mid/Senior .NET Dev - $2800 (+Bonus)</td>\n",
              "      <td>[\\n.NET\\n\\n, \\nSQL\\n\\n, \\nEnglish\\n\\n]</td>\n",
              "      <td>\\n2 Nguyen The Loc, Ward 12, Tan Binh, Ho Chi ...</td>\n",
              "      <td>\\nCompetitive Salary and Brilliant Health Bene...</td>\n",
              "    </tr>\n",
              "    <tr>\n",
              "      <th>2</th>\n",
              "      <td>2</td>\n",
              "      <td>Fulltime/Freelancer - Backend Dev (C#, .NET, N...</td>\n",
              "      <td>[\\nC#\\n\\n, \\nNodeJS\\n\\n, \\n.NET\\n\\n]</td>\n",
              "      <td>\\nTầng 2, Indochina Riverside - 74 Bạch Đằng, ...</td>\n",
              "      <td>\\nNgày nghỉ:Nghỉ lễ, nghỉ phép, nghỉ việc riên...</td>\n",
              "    </tr>\n",
              "    <tr>\n",
              "      <th>3</th>\n",
              "      <td>3</td>\n",
              "      <td>.Net Developer (.NETCore, C#)</td>\n",
              "      <td>[\\n.NET\\n\\n, \\nC#\\n\\n, \\nNodeJS\\n\\n]</td>\n",
              "      <td>\\nLotte Tower, 54 Lieu Giai, Ba Dinh, Ha Noi\\n...</td>\n",
              "      <td>\\nPanasonic R&amp;D Center Vietnam was established...</td>\n",
              "    </tr>\n",
              "    <tr>\n",
              "      <th>4</th>\n",
              "      <td>4</td>\n",
              "      <td>Sign in bonus - C#, .NET, Angular Dev -Upto 2000$</td>\n",
              "      <td>[\\nC#\\n\\n, \\n.NET\\n\\n, \\nAngular\\n\\n]</td>\n",
              "      <td>\\nHoa Binh Tower, 106 Hoang Quoc Viet, Nghia D...</td>\n",
              "      <td>\\nThu nhập cạnh tranh và nhiều cơ hội phát tri...</td>\n",
              "    </tr>\n",
              "  </tbody>\n",
              "</table>\n",
              "</div>\n",
              "      <button class=\"colab-df-convert\" onclick=\"convertToInteractive('df-a25d2937-d58d-4862-8429-bc59c63ccbbb')\"\n",
              "              title=\"Convert this dataframe to an interactive table.\"\n",
              "              style=\"display:none;\">\n",
              "        \n",
              "  <svg xmlns=\"http://www.w3.org/2000/svg\" height=\"24px\"viewBox=\"0 0 24 24\"\n",
              "       width=\"24px\">\n",
              "    <path d=\"M0 0h24v24H0V0z\" fill=\"none\"/>\n",
              "    <path d=\"M18.56 5.44l.94 2.06.94-2.06 2.06-.94-2.06-.94-.94-2.06-.94 2.06-2.06.94zm-11 1L8.5 8.5l.94-2.06 2.06-.94-2.06-.94L8.5 2.5l-.94 2.06-2.06.94zm10 10l.94 2.06.94-2.06 2.06-.94-2.06-.94-.94-2.06-.94 2.06-2.06.94z\"/><path d=\"M17.41 7.96l-1.37-1.37c-.4-.4-.92-.59-1.43-.59-.52 0-1.04.2-1.43.59L10.3 9.45l-7.72 7.72c-.78.78-.78 2.05 0 2.83L4 21.41c.39.39.9.59 1.41.59.51 0 1.02-.2 1.41-.59l7.78-7.78 2.81-2.81c.8-.78.8-2.07 0-2.86zM5.41 20L4 18.59l7.72-7.72 1.47 1.35L5.41 20z\"/>\n",
              "  </svg>\n",
              "      </button>\n",
              "      \n",
              "  <style>\n",
              "    .colab-df-container {\n",
              "      display:flex;\n",
              "      flex-wrap:wrap;\n",
              "      gap: 12px;\n",
              "    }\n",
              "\n",
              "    .colab-df-convert {\n",
              "      background-color: #E8F0FE;\n",
              "      border: none;\n",
              "      border-radius: 50%;\n",
              "      cursor: pointer;\n",
              "      display: none;\n",
              "      fill: #1967D2;\n",
              "      height: 32px;\n",
              "      padding: 0 0 0 0;\n",
              "      width: 32px;\n",
              "    }\n",
              "\n",
              "    .colab-df-convert:hover {\n",
              "      background-color: #E2EBFA;\n",
              "      box-shadow: 0px 1px 2px rgba(60, 64, 67, 0.3), 0px 1px 3px 1px rgba(60, 64, 67, 0.15);\n",
              "      fill: #174EA6;\n",
              "    }\n",
              "\n",
              "    [theme=dark] .colab-df-convert {\n",
              "      background-color: #3B4455;\n",
              "      fill: #D2E3FC;\n",
              "    }\n",
              "\n",
              "    [theme=dark] .colab-df-convert:hover {\n",
              "      background-color: #434B5C;\n",
              "      box-shadow: 0px 1px 3px 1px rgba(0, 0, 0, 0.15);\n",
              "      filter: drop-shadow(0px 1px 2px rgba(0, 0, 0, 0.3));\n",
              "      fill: #FFFFFF;\n",
              "    }\n",
              "  </style>\n",
              "\n",
              "      <script>\n",
              "        const buttonEl =\n",
              "          document.querySelector('#df-a25d2937-d58d-4862-8429-bc59c63ccbbb button.colab-df-convert');\n",
              "        buttonEl.style.display =\n",
              "          google.colab.kernel.accessAllowed ? 'block' : 'none';\n",
              "\n",
              "        async function convertToInteractive(key) {\n",
              "          const element = document.querySelector('#df-a25d2937-d58d-4862-8429-bc59c63ccbbb');\n",
              "          const dataTable =\n",
              "            await google.colab.kernel.invokeFunction('convertToInteractive',\n",
              "                                                     [key], {});\n",
              "          if (!dataTable) return;\n",
              "\n",
              "          const docLinkHtml = 'Like what you see? Visit the ' +\n",
              "            '<a target=\"_blank\" href=https://colab.research.google.com/notebooks/data_table.ipynb>data table notebook</a>'\n",
              "            + ' to learn more about interactive tables.';\n",
              "          element.innerHTML = '';\n",
              "          dataTable['output_type'] = 'display_data';\n",
              "          await google.colab.output.renderOutput(dataTable, element);\n",
              "          const docLink = document.createElement('div');\n",
              "          docLink.innerHTML = docLinkHtml;\n",
              "          element.appendChild(docLink);\n",
              "        }\n",
              "      </script>\n",
              "    </div>\n",
              "  </div>\n",
              "  "
            ]
          },
          "metadata": {},
          "execution_count": 812
        }
      ]
    },
    {
      "cell_type": "code",
      "source": [
        "# số lượng dữ liệu bị khuyết thiếu ở các cột\n",
        "df.isna().sum()"
      ],
      "metadata": {
        "colab": {
          "base_uri": "https://localhost:8080/"
        },
        "id": "upCLW4eVVs2V",
        "outputId": "03469574-c3c2-4abf-980d-f0dbfe67fbc2"
      },
      "execution_count": null,
      "outputs": [
        {
          "output_type": "execute_result",
          "data": {
            "text/plain": [
              "Unnamed: 0             0\n",
              "title                  0\n",
              "skill                  0\n",
              "address                1\n",
              "skillAndExperience    40\n",
              "dtype: int64"
            ]
          },
          "metadata": {},
          "execution_count": 813
        }
      ]
    },
    {
      "cell_type": "markdown",
      "source": [
        "### Xóa hết tất cả các dữ liệu bị khuyết thiếu"
      ],
      "metadata": {
        "id": "pqHcEMd2Vwd2"
      }
    },
    {
      "cell_type": "code",
      "source": [
        "df.dropna(inplace = True)"
      ],
      "metadata": {
        "id": "Fx9PTpRLVupX"
      },
      "execution_count": null,
      "outputs": []
    },
    {
      "cell_type": "markdown",
      "source": [
        "# Clean data"
      ],
      "metadata": {
        "id": "qL7ZMaX_V7wb"
      }
    },
    {
      "cell_type": "code",
      "source": [
        "df['title'] = df['title'].str.lower()\n",
        "df['skill'] = df['skill'].str.lower()\n",
        "df['address'] = df['address'].str.lower()\n",
        "df['skillAndExperience'] = df['skillAndExperience'].str.lower()"
      ],
      "metadata": {
        "id": "hpCUpzYuV6Xw"
      },
      "execution_count": null,
      "outputs": []
    },
    {
      "cell_type": "code",
      "source": [
        "df['title1'] = df['title']"
      ],
      "metadata": {
        "id": "2-XZ9YBaXrKQ"
      },
      "execution_count": null,
      "outputs": []
    },
    {
      "cell_type": "code",
      "source": [
        "df.head()"
      ],
      "metadata": {
        "colab": {
          "base_uri": "https://localhost:8080/",
          "height": 206
        },
        "id": "t-3j1xkVV-yF",
        "outputId": "ce2655fa-a7fd-417a-f5ff-9273e8e1ba17"
      },
      "execution_count": null,
      "outputs": [
        {
          "output_type": "execute_result",
          "data": {
            "text/plain": [
              "   Unnamed: 0                                              title  \\\n",
              "0           0             asp.net developer (c# .net/sql server)   \n",
              "1           1               mid/senior .net dev - $2800 (+bonus)   \n",
              "2           2  fulltime/freelancer - backend dev (c#, .net, n...   \n",
              "3           3                      .net developer (.netcore, c#)   \n",
              "4           4  sign in bonus - c#, .net, angular dev -upto 2000$   \n",
              "\n",
              "                                    skill  \\\n",
              "0  [\\n.net\\n\\n, \\nsql\\n\\n, \\nasp.net\\n\\n]   \n",
              "1  [\\n.net\\n\\n, \\nsql\\n\\n, \\nenglish\\n\\n]   \n",
              "2    [\\nc#\\n\\n, \\nnodejs\\n\\n, \\n.net\\n\\n]   \n",
              "3    [\\n.net\\n\\n, \\nc#\\n\\n, \\nnodejs\\n\\n]   \n",
              "4   [\\nc#\\n\\n, \\n.net\\n\\n, \\nangular\\n\\n]   \n",
              "\n",
              "                                             address  \\\n",
              "0  \\n153 ung van khiem, ward 25, binh thanh distr...   \n",
              "1  \\n2 nguyen the loc, ward 12, tan binh, ho chi ...   \n",
              "2  \\ntầng 2, indochina riverside - 74 bạch đằng, ...   \n",
              "3  \\nlotte tower, 54 lieu giai, ba dinh, ha noi\\n...   \n",
              "4  \\nhoa binh tower, 106 hoang quoc viet, nghia d...   \n",
              "\n",
              "                                  skillAndExperience  \\\n",
              "0  \\n\\nworking with young, healthy, ambitious and...   \n",
              "1  \\ncompetitive salary and brilliant health bene...   \n",
              "2  \\nngày nghỉ:nghỉ lễ, nghỉ phép, nghỉ việc riên...   \n",
              "3  \\npanasonic r&d center vietnam was established...   \n",
              "4  \\nthu nhập cạnh tranh và nhiều cơ hội phát tri...   \n",
              "\n",
              "                                              title1  \n",
              "0             asp.net developer (c# .net/sql server)  \n",
              "1               mid/senior .net dev - $2800 (+bonus)  \n",
              "2  fulltime/freelancer - backend dev (c#, .net, n...  \n",
              "3                      .net developer (.netcore, c#)  \n",
              "4  sign in bonus - c#, .net, angular dev -upto 2000$  "
            ],
            "text/html": [
              "\n",
              "  <div id=\"df-e17db374-0c5f-4481-afe0-c7e7558fae27\">\n",
              "    <div class=\"colab-df-container\">\n",
              "      <div>\n",
              "<style scoped>\n",
              "    .dataframe tbody tr th:only-of-type {\n",
              "        vertical-align: middle;\n",
              "    }\n",
              "\n",
              "    .dataframe tbody tr th {\n",
              "        vertical-align: top;\n",
              "    }\n",
              "\n",
              "    .dataframe thead th {\n",
              "        text-align: right;\n",
              "    }\n",
              "</style>\n",
              "<table border=\"1\" class=\"dataframe\">\n",
              "  <thead>\n",
              "    <tr style=\"text-align: right;\">\n",
              "      <th></th>\n",
              "      <th>Unnamed: 0</th>\n",
              "      <th>title</th>\n",
              "      <th>skill</th>\n",
              "      <th>address</th>\n",
              "      <th>skillAndExperience</th>\n",
              "      <th>title1</th>\n",
              "    </tr>\n",
              "  </thead>\n",
              "  <tbody>\n",
              "    <tr>\n",
              "      <th>0</th>\n",
              "      <td>0</td>\n",
              "      <td>asp.net developer (c# .net/sql server)</td>\n",
              "      <td>[\\n.net\\n\\n, \\nsql\\n\\n, \\nasp.net\\n\\n]</td>\n",
              "      <td>\\n153 ung van khiem, ward 25, binh thanh distr...</td>\n",
              "      <td>\\n\\nworking with young, healthy, ambitious and...</td>\n",
              "      <td>asp.net developer (c# .net/sql server)</td>\n",
              "    </tr>\n",
              "    <tr>\n",
              "      <th>1</th>\n",
              "      <td>1</td>\n",
              "      <td>mid/senior .net dev - $2800 (+bonus)</td>\n",
              "      <td>[\\n.net\\n\\n, \\nsql\\n\\n, \\nenglish\\n\\n]</td>\n",
              "      <td>\\n2 nguyen the loc, ward 12, tan binh, ho chi ...</td>\n",
              "      <td>\\ncompetitive salary and brilliant health bene...</td>\n",
              "      <td>mid/senior .net dev - $2800 (+bonus)</td>\n",
              "    </tr>\n",
              "    <tr>\n",
              "      <th>2</th>\n",
              "      <td>2</td>\n",
              "      <td>fulltime/freelancer - backend dev (c#, .net, n...</td>\n",
              "      <td>[\\nc#\\n\\n, \\nnodejs\\n\\n, \\n.net\\n\\n]</td>\n",
              "      <td>\\ntầng 2, indochina riverside - 74 bạch đằng, ...</td>\n",
              "      <td>\\nngày nghỉ:nghỉ lễ, nghỉ phép, nghỉ việc riên...</td>\n",
              "      <td>fulltime/freelancer - backend dev (c#, .net, n...</td>\n",
              "    </tr>\n",
              "    <tr>\n",
              "      <th>3</th>\n",
              "      <td>3</td>\n",
              "      <td>.net developer (.netcore, c#)</td>\n",
              "      <td>[\\n.net\\n\\n, \\nc#\\n\\n, \\nnodejs\\n\\n]</td>\n",
              "      <td>\\nlotte tower, 54 lieu giai, ba dinh, ha noi\\n...</td>\n",
              "      <td>\\npanasonic r&amp;d center vietnam was established...</td>\n",
              "      <td>.net developer (.netcore, c#)</td>\n",
              "    </tr>\n",
              "    <tr>\n",
              "      <th>4</th>\n",
              "      <td>4</td>\n",
              "      <td>sign in bonus - c#, .net, angular dev -upto 2000$</td>\n",
              "      <td>[\\nc#\\n\\n, \\n.net\\n\\n, \\nangular\\n\\n]</td>\n",
              "      <td>\\nhoa binh tower, 106 hoang quoc viet, nghia d...</td>\n",
              "      <td>\\nthu nhập cạnh tranh và nhiều cơ hội phát tri...</td>\n",
              "      <td>sign in bonus - c#, .net, angular dev -upto 2000$</td>\n",
              "    </tr>\n",
              "  </tbody>\n",
              "</table>\n",
              "</div>\n",
              "      <button class=\"colab-df-convert\" onclick=\"convertToInteractive('df-e17db374-0c5f-4481-afe0-c7e7558fae27')\"\n",
              "              title=\"Convert this dataframe to an interactive table.\"\n",
              "              style=\"display:none;\">\n",
              "        \n",
              "  <svg xmlns=\"http://www.w3.org/2000/svg\" height=\"24px\"viewBox=\"0 0 24 24\"\n",
              "       width=\"24px\">\n",
              "    <path d=\"M0 0h24v24H0V0z\" fill=\"none\"/>\n",
              "    <path d=\"M18.56 5.44l.94 2.06.94-2.06 2.06-.94-2.06-.94-.94-2.06-.94 2.06-2.06.94zm-11 1L8.5 8.5l.94-2.06 2.06-.94-2.06-.94L8.5 2.5l-.94 2.06-2.06.94zm10 10l.94 2.06.94-2.06 2.06-.94-2.06-.94-.94-2.06-.94 2.06-2.06.94z\"/><path d=\"M17.41 7.96l-1.37-1.37c-.4-.4-.92-.59-1.43-.59-.52 0-1.04.2-1.43.59L10.3 9.45l-7.72 7.72c-.78.78-.78 2.05 0 2.83L4 21.41c.39.39.9.59 1.41.59.51 0 1.02-.2 1.41-.59l7.78-7.78 2.81-2.81c.8-.78.8-2.07 0-2.86zM5.41 20L4 18.59l7.72-7.72 1.47 1.35L5.41 20z\"/>\n",
              "  </svg>\n",
              "      </button>\n",
              "      \n",
              "  <style>\n",
              "    .colab-df-container {\n",
              "      display:flex;\n",
              "      flex-wrap:wrap;\n",
              "      gap: 12px;\n",
              "    }\n",
              "\n",
              "    .colab-df-convert {\n",
              "      background-color: #E8F0FE;\n",
              "      border: none;\n",
              "      border-radius: 50%;\n",
              "      cursor: pointer;\n",
              "      display: none;\n",
              "      fill: #1967D2;\n",
              "      height: 32px;\n",
              "      padding: 0 0 0 0;\n",
              "      width: 32px;\n",
              "    }\n",
              "\n",
              "    .colab-df-convert:hover {\n",
              "      background-color: #E2EBFA;\n",
              "      box-shadow: 0px 1px 2px rgba(60, 64, 67, 0.3), 0px 1px 3px 1px rgba(60, 64, 67, 0.15);\n",
              "      fill: #174EA6;\n",
              "    }\n",
              "\n",
              "    [theme=dark] .colab-df-convert {\n",
              "      background-color: #3B4455;\n",
              "      fill: #D2E3FC;\n",
              "    }\n",
              "\n",
              "    [theme=dark] .colab-df-convert:hover {\n",
              "      background-color: #434B5C;\n",
              "      box-shadow: 0px 1px 3px 1px rgba(0, 0, 0, 0.15);\n",
              "      filter: drop-shadow(0px 1px 2px rgba(0, 0, 0, 0.3));\n",
              "      fill: #FFFFFF;\n",
              "    }\n",
              "  </style>\n",
              "\n",
              "      <script>\n",
              "        const buttonEl =\n",
              "          document.querySelector('#df-e17db374-0c5f-4481-afe0-c7e7558fae27 button.colab-df-convert');\n",
              "        buttonEl.style.display =\n",
              "          google.colab.kernel.accessAllowed ? 'block' : 'none';\n",
              "\n",
              "        async function convertToInteractive(key) {\n",
              "          const element = document.querySelector('#df-e17db374-0c5f-4481-afe0-c7e7558fae27');\n",
              "          const dataTable =\n",
              "            await google.colab.kernel.invokeFunction('convertToInteractive',\n",
              "                                                     [key], {});\n",
              "          if (!dataTable) return;\n",
              "\n",
              "          const docLinkHtml = 'Like what you see? Visit the ' +\n",
              "            '<a target=\"_blank\" href=https://colab.research.google.com/notebooks/data_table.ipynb>data table notebook</a>'\n",
              "            + ' to learn more about interactive tables.';\n",
              "          element.innerHTML = '';\n",
              "          dataTable['output_type'] = 'display_data';\n",
              "          await google.colab.output.renderOutput(dataTable, element);\n",
              "          const docLink = document.createElement('div');\n",
              "          docLink.innerHTML = docLinkHtml;\n",
              "          element.appendChild(docLink);\n",
              "        }\n",
              "      </script>\n",
              "    </div>\n",
              "  </div>\n",
              "  "
            ]
          },
          "metadata": {},
          "execution_count": 817
        }
      ]
    },
    {
      "cell_type": "code",
      "source": [
        "# xóa hết tất cả có kí tự số trong cột title\n",
        "df['title'] = df['title'].str.replace('\\d+',' ')\n",
        "# xóa hết các kí tự đặc biệt trong cột title\n",
        "df['title'] = df['title'].str.replace(r'[(,),$+]',' ')"
      ],
      "metadata": {
        "colab": {
          "base_uri": "https://localhost:8080/"
        },
        "id": "F4zK05m6WAEJ",
        "outputId": "96c423f7-68f3-4841-cdc0-6ee27b484a40"
      },
      "execution_count": null,
      "outputs": [
        {
          "output_type": "stream",
          "name": "stderr",
          "text": [
            "/usr/local/lib/python3.7/dist-packages/ipykernel_launcher.py:2: FutureWarning: The default value of regex will change from True to False in a future version.\n",
            "  \n",
            "/usr/local/lib/python3.7/dist-packages/ipykernel_launcher.py:4: FutureWarning: The default value of regex will change from True to False in a future version.\n",
            "  after removing the cwd from sys.path.\n"
          ]
        }
      ]
    },
    {
      "cell_type": "code",
      "source": [
        "df['title'].unique()"
      ],
      "metadata": {
        "colab": {
          "base_uri": "https://localhost:8080/"
        },
        "id": "ljNYgIRSWk4X",
        "outputId": "71857924-4827-4c74-b421-126df1e55d92"
      },
      "execution_count": null,
      "outputs": [
        {
          "output_type": "execute_result",
          "data": {
            "text/plain": [
              "array(['asp.net developer  c# .net/sql server ',\n",
              "       'mid/senior .net dev -      bonus ',\n",
              "       'fulltime/freelancer - backend dev  c#  .net  nodejs ',\n",
              "       '.net developer  .netcore  c# ',\n",
              "       'sign in bonus - c#  .net  angular dev -upto   ',\n",
              "       '  .net dev  c#  angular  up to   ',\n",
              "       'mid/sr .net dev  asp.net/ javascript ',\n",
              "       'urgent - .net web dev  asp.net  c# ',\n",
              "       'middle/ senior developer  java/ .net ',\n",
              "       '  backend dev  .net  asp.net  c# ',\n",
              "       '  full-stack .net developer ~   ', '.net developer  c#  asp.net ',\n",
              "       '.net developer   javascript  html ~  ',\n",
              "       '[remote] software dev  asp.net  .  or above  .net  c# ',\n",
              "       'fullstack developer  .net  c#  reactjs ',\n",
              "       '  senior .net full stack developer',\n",
              "       '[all levels] backend developer  .net/golang ',\n",
              "       'senior c# developer  .net/oop/win/azure ',\n",
              "       'full stack dev  .net core c# /react/eng ',\n",
              "       '.net/java/nodejs backend developer ~ m',\n",
              "       'fullstack developer  .net/java  azure ',\n",
              "       '.net developers  junior to senior ',\n",
              "       'sr fullstack dev  java/.net ',\n",
              "       'fresher/ senior fullstack developer  c#  .net ',\n",
              "       '.net developer  c#  core ',\n",
              "       '  fresher web developer  .net / c# / oop ',\n",
              "       'junior/middle backend dev  .net  c# ',\n",
              "       '.net developer  c# / oracle ~  usd',\n",
              "       '.net backend developer  c#  asp.net  up to   ',\n",
              "       '.net developer  asp.net; c#  up to   ',\n",
              "       '  fr/jr/sr .net dev  asp.net  c# ~  ',\n",
              "       'software developer  java  .net  c/c   ',\n",
              "       '.net core developer  asp.net  c#   nha trang ',\n",
              "       'junior/senior .net dev', 'mid/senior .net developer   wfh to   ',\n",
              "       'backend .net dev  c#  .net core  mvc ',\n",
              "       '[all levels] full stack .net developer',\n",
              "       '.net developer [up to   ]',\n",
              "       '[hybrid/remote] sr .net dev  asp.net c# ',\n",
              "       'backend dev  .net  javascript  html  ',\n",
              "       '[all level] java/.net/reactjs dev ~  ',\n",
              "       'software developer  php  python  .net ',\n",
              "       'senior web applications developer  c#  .net  asp.net ',\n",
              "       'middle .net developer  c#  .net core ',\n",
              "       'developer  .net  c#  sql ',\n",
              "       '.net developer  c#  sap b  _up to   ',\n",
              "       '.net winform developer  c#   sql ',\n",
              "       'mid/sr .net developers  asp.net  c# ',\n",
              "       '.net developer  asp.net  c# ', '.net developer  c#  .net core ',\n",
              "       'fullstack developer  java .net  pl/sql ',\n",
              "       '.net fullstack dev  asp.net/javascript ',\n",
              "       'c#/.net developer  wpf ', '  dev  .net developer hoặc database ',\n",
              "       'backend developer  java  .net ',\n",
              "       'senior .net dev  c#  sql  react  ~   ',\n",
              "       '  web developers  c#  .net  asp.net ',\n",
              "       'software developer  .net  c#  sql ',\n",
              "       'senior fullstack developer  .net ', 'c#/c/c   developer  .net ',\n",
              "       'web developer  .net core  react ',\n",
              "       '.net/c# developer  fresher/junior ',\n",
              "       'software developer  .net  - up to  m',\n",
              "       'software dev  .net  asp.net  c# ',\n",
              "       'web app developer  .net/asp.net/c# ',\n",
              "       'software developer  php  java  .net ',\n",
              "       'ax developer  .net  sql  c# ',\n",
              "       'fullstack dev  .net  reactjs ~up   ',\n",
              "       '.net web developer  c#/ javascript ',\n",
              "       'sr .net developer  c#  - joining bonus',\n",
              "       'software dev  erp  c#  .net  ~    ',\n",
              "       'mid/sr. backend developer  .net  c# ',\n",
              "       'junior web/ app .net dev  mvc  asp.net ', '.net developer  c# ',\n",
              "       'middle fullstack dev .net  angular  sql ',\n",
              "       'c# developer  .net  html  ', 'software developer  .net/ c#/ sql ',\n",
              "       '.net developer  asp.net  sql ', '  .net devs -    joining bonus',\n",
              "       '.net developer  .net/.net core/c# ',\n",
              "       'reactjs/.net/nodejs/mobile developer',\n",
              "       'mid/senior backend developer  .net  c# ',\n",
              "       'mid/sr. backend dev  .net  asp.net  c# ',\n",
              "       'sr fullstack dev  .net/java/reactjs ',\n",
              "       'senior .net developer  sql  c# ',\n",
              "       'software developer  .net/asp.net/c# ',\n",
              "       'fullstack developer  c#  .net  angular ',\n",
              "       'backend developers  java  c#  .net ',\n",
              "       '.net backend developer  c#  asp.net ',\n",
              "       'mid-senior developer  web   asp .net ',\n",
              "       '.net developer  c#  asp.net/angularjs ',\n",
              "       'junior erp sap developer  .net  c#  sql ',\n",
              "       'mobile app dev  flutter  ios  android ',\n",
              "       'mobile app developer  ios/android  java ',\n",
              "       'unity games developer  ios/android ',\n",
              "       'senior mobile dev  flutter  android  ios ',\n",
              "       'jr/sr android developer  java  kotlin ',\n",
              "       'mobile developers  flutter  ios/android ',\n",
              "       '[hn]   android developer  java  kotlin ',\n",
              "       '  mobile dev  flutter/ios/android ',\n",
              "       '  android devs  java  kotlin ',\n",
              "       'mobile apps developer  flutter/ios/android  up to   ',\n",
              "       'android developer  java  kotlin ',\n",
              "       'mobile dev  flutter  ios/android ',\n",
              "       'mobile dev  swift ios/ kotlin android ',\n",
              "       'react native dev  ios  android ~  ',\n",
              "       'android developer  java  oop ',\n",
              "       'react native developer  android  ios ',\n",
              "       '  mobile developer   android  ',\n",
              "       'mid/sr flutter developer  ios  android ',\n",
              "       '  senior android developer  java json ',\n",
              "       'mobile dev  android/ ios/ react native ',\n",
              "       'senior android developer  java  kotlin ', 'android developer',\n",
              "       'senior mobile developer  android/ios ',\n",
              "       'senior android developer',\n",
              "       'mobile dev  ios/android signing bonus ',\n",
              "       'mobile developers  android / ios ', 'android developer  java ',\n",
              "       'mobile dev  ios/android/react native ',\n",
              "       'flutter developer  android  ios ',\n",
              "       'android developer java/kotlin -up to  m',\n",
              "       'mobile apps devs  android  ios ',\n",
              "       'mobile developer  android/ios ',\n",
              "       '  mobile developer  android  ios  ',\n",
              "       'senior mobile backend dev  android/ ios ',\n",
              "       'mobile developer  android  ios ',\n",
              "       'flutter mobile developer  ios/android ',\n",
              "       '  jr flutter developers  android  ios ',\n",
              "       'android developer  native  java ',\n",
              "       'senior android developer  hybrid ',\n",
              "       'android developer  java  kotlin  oop ',\n",
              "       '  devs  python/java android/angular ',\n",
              "       '  mobile dev  android  ios  flutter ',\n",
              "       'senior mobile dev  android/ios/flutter ',\n",
              "       'senior android developer  java/kotlin ',\n",
              "       'android/ios developer  kotlin/swift ',\n",
              "       'java backend dev  spring  agile  sign-on bonus   ',\n",
              "       '  backend developers  java  spring ',\n",
              "       'senior backend developer  java  spring  sql ',\n",
              "       'mid/ sr back-end dev php  nodejs ',\n",
              "       'mid/sr backend nodejs dev  javascript ',\n",
              "       'senior backend developer',\n",
              "       'backend developer - nodejs  microservice',\n",
              "       'nodejs backend developer  nodejs aws javascript ',\n",
              "       'backend web dev  mysql  nodejs  mongodb ',\n",
              "       '  jr-sr. backend web developers  php/nodejs ',\n",
              "       '[ha noi] back-end developer  golang  nodejs ',\n",
              "       'backend developer/lead  prefer go or c# ',\n",
              "       'backend dev  java  python  spring ',\n",
              "       'nodejs backend developer  fresher/junior ',\n",
              "       'dev/tech backend  java  python  aws ',\n",
              "       'backend developer  java  nodejs ',\n",
              "       'backend developer  php/laravel ~hybrid',\n",
              "       'back end developer  java/nodejs ',\n",
              "       'back-end developer  java  spring ',\n",
              "       '  backend developer  nodejs/golang ',\n",
              "       'back-end dev  python/golang/mongodb.... ',\n",
              "       '[fintech/ e-commerce] backend dev  java ',\n",
              "       'backend developer  java ',\n",
              "       'php backend developer  laravel  cakephp  up to   ',\n",
              "       'senior backend developer  nodejs ',\n",
              "       'backend developer  python/nodejs/django ',\n",
              "       'senior   java backend developer',\n",
              "       'junior back-end developer  nodejs ',\n",
              "       'backend developer  nodejs  aws ',\n",
              "       'backend java developer  spring  sql ',\n",
              "       'back-end dev  java  spring  aws ',\n",
              "       'backend php dev  nodejs  mysql ~  ',\n",
              "       'sr backend developer  python/golang ',\n",
              "       'backend developer  php  laravel ',\n",
              "       'backend dev  golang  python  ruby ',\n",
              "       'jr backend dev  nodejs  golang  english ',\n",
              "       'backend developer  golang ', 'backend developer  php  mysql ',\n",
              "       '  lead backend dev  nodejs  aws  scrum ',\n",
              "       'backend nodejs dev  aws  azure  mysql ',\n",
              "       '  backend developer  java/scala ',\n",
              "       '  jr/sr backend dev  nodejs/java/c   ',\n",
              "       'backend developer  java/spring/nodejs ',\n",
              "       'backend developer  ruby/python/golang ',\n",
              "       'all level - backend dev  java/nodejs ',\n",
              "       'remote backend developer  java ',\n",
              "       'blockchain backend dev  nodejs / python ',\n",
              "       'back-end developer  php  mysql ',\n",
              "       'backend developer  laravel/php  - hybrid',\n",
              "       'jr/sr backend dev  java  mysql  spring ',\n",
              "       'backend nodejs dev  nosql/mongodb ',\n",
              "       'backend nodejs dev  javascript  mysql ',\n",
              "       'backend developer  java  spring ', 'backend developer  upto    ',\n",
              "       'backend developer  java  nodejs  python ',\n",
              "       'all level-backend dev  python/php/c# ',\n",
              "       'backend developer  nodejs  java  scala ',\n",
              "       'senior backend developer  ruby on rails ',\n",
              "       'senior backend developer  nodejs/golang ',\n",
              "       'backend developer  java  python ',\n",
              "       'back-end developer  java  spring ~  ',\n",
              "       'developer  full stack & back end ',\n",
              "       'backend developer  python  c# ',\n",
              "       'backend developer  nodejs/python/java ',\n",
              "       'backend developer  php/wordpress/mysql ',\n",
              "       'backend developer  java  spring  sql ',\n",
              "       'back-end web developer  python',\n",
              "       'backend php developer  laravel  mongodb ',\n",
              "       'backend developer  nodejs  - up to   ',\n",
              "       '[hcm]   backend developers  java/golang ',\n",
              "       'php backend dev  laravel ',\n",
              "       'web app developer  reactjs - asp.net ',\n",
              "       'senior web developer  nodejs  reactjs  ~ m',\n",
              "       'web frontend dev  css/angular  ~   ',\n",
              "       'web developer  reactjs/ python/ golang ',\n",
              "       'web developer  ruby on rails/php/nodejs ',\n",
              "       'web developer  javascript  react    ',\n",
              "       'frontend web developer  javascript  php ',\n",
              "       'web dev team leader php  nodejs ',\n",
              "       '  web developers  reactjs  nodejs ',\n",
              "       'php developer  oop/mvc/mysql  - web/app',\n",
              "       'web developer  javascript / nodejs ',\n",
              "       '  java web dev  spring/reactjs  ~  ',\n",
              "       'web developer  javascript  reactjs ',\n",
              "       'bridge engineer  project manager  brse ',\n",
              "       '  bridge engineer  brse project manager ',\n",
              "       'kỹ sư cầu nối  brse  java  php  ~  ',\n",
              "       '  kỹ sư cầu nối brse  asp  php ', 'business analyst  sql ',\n",
              "       'senior business analyst  sql/php ',\n",
              "       'it senior business analyst - finance',\n",
              "       'it project manager  business analyst  system mis ',\n",
              "       'it business analyst   sql/english  ', 'business analyst-platform',\n",
              "       'business analyst  technical  po ',\n",
              "       'viettel digital - business analyst  qa qc ',\n",
              "       'business analyst  junior - senior ',\n",
              "       '  senior product owner/ business analyst  insurtech ',\n",
              "       'technical writer  business analyst ',\n",
              "       'senior technical business analyst',\n",
              "       'business analyst -  -month joining bonus', 'business analyst',\n",
              "       'it business analyst  wfh to   ',\n",
              "       'senior business analyst - sign-on bonus',\n",
              "       'sr business analyst/product owner ~  ',\n",
              "       'business analyst/ product owner',\n",
              "       'it business analyst  middle/senior ',\n",
              "       'senior business analyst  blockchain ',\n",
              "       'business analyst expert - card   -   ', 'senior business analyst',\n",
              "       'business analyst  erp ', 'business analyst/product owner',\n",
              "       '  system analyst  it business analyst ',\n",
              "       'business analyst [upto   ]',\n",
              "       'product owner/business analyst  agile ',\n",
              "       '[hn]   business analyst',\n",
              "       'product owner  business analyst  agile ',\n",
              "       'senior it business analyst', 'senior business analyst  up to    ',\n",
              "       '   years business analyst  agile ',\n",
              "       'senior business analyst  agile ',\n",
              "       'it business analyst  digital banking ',\n",
              "       'business analyst  english  up to   ',\n",
              "       'business analyst  database  ui-ux ',\n",
              "       'business analyst  agile  full tet bonus',\n",
              "       'it business analyst - enterprise db',\n",
              "       'phân tích nghiệp vụ  business analyst ',\n",
              "       'business analyst  data analyst  sql ', 'business analyst  agile ',\n",
              "       'data analyst  business intelligence ',\n",
              "       'business analyst  ba / data analyst',\n",
              "       'project manager  business analyst ',\n",
              "       'business analyst   tester  ',\n",
              "       ' -  business analyst  erp/logistics ',\n",
              "       '  it business analyst  agile  ui-ux ',\n",
              "       '[urgent]   business analyst', 'business analyst  agile/ english ',\n",
              "       'senior business analyst  sql ',\n",
              "       'junior business analyst  english ',\n",
              "       'business analyst/ product owner  remote ',\n",
              "       'it business analyst  up to    ',\n",
              "       'product manager/ sr. business analyst',\n",
              "       'product owner  strong english  remote/ hybrid ',\n",
              "       'project manager  agile ', 'solution software architect  ba ',\n",
              "       'senior product owner  securities/ fintech ', 'tester  qa qc ',\n",
              "       '[remote] software qa engineer',\n",
              "       'senior system analyst  underwriting system  sql ',\n",
              "       'it service management senior process consultant',\n",
              "       'it service management consultant',\n",
              "       'project manager  agile  ba  english ',\n",
              "       'business intelligence analyst', 'senior product manager',\n",
              "       'associate manager  business analysis',\n",
              "       '[tg ] business analyst  sql  -  z ',\n",
              "       'senior data analytics / business intelligence engineer',\n",
              "       'ict technical business analysis officer',\n",
              "       'it senior application support - finance', 'product owner',\n",
              "       'it customer services specialist', 'account manager  presale ',\n",
              "       'senior  data analyst', ' mid/senior  quality control engineer',\n",
              "       'qa qc engineer  tester    -  ', 'product owner - hybrid~   ',\n",
              "       'senior data analyst  fintech ',\n",
              "       'linux developer  c/c    embedded   - m',\n",
              "       ' g radio software developer  c    linux ',\n",
              "       'sign on bonus - c  / python developer - up to   ',\n",
              "       'c   game developer  fresher/junior ',\n",
              "       '  software developer  c/c    java ',\n",
              "       'c   developer   d   d  cad ',\n",
              "       '[signing bonus] embedded c   developers',\n",
              "       'sr c   dev  c/c    video streaming ~  k ',\n",
              "       'games developer  java/c  /c# ~short term',\n",
              "       '  embedded developer c/c    mid/senior ',\n",
              "       'unreal engine developer- c  /games',\n",
              "       'python / c   developer ~   ',\n",
              "       'c#/c   developers  appsoftware engineer ',\n",
              "       'c   developer  junior  senior ',\n",
              "       'fresher/jr software developers in c/c  ',\n",
              "       'javascript developer  php  c    ',\n",
              "       'c   developer  python  ~ up to   ',\n",
              "       'jr/sr software dev  oracle pl/sql c/c   ',\n",
              "       '  all levels c   developers  c/oop ',\n",
              "       'senior iot embedded firmware engineer',\n",
              "       'embedded linux engineer  c language/c   ',\n",
              "       '  embedded sw engineers  sign-on bonus ',\n",
              "       '[fresher] embedded software engineer',\n",
              "       'embedded c firmware engineer',\n",
              "       'embedded sw engineer  c    c language ',\n",
              "       'embedded firmware engineer  rtos/c   ',\n",
              "       'embedded sw engineer  c/c  /linux ',\n",
              "       'embedded software engineer  all level ',\n",
              "       '  embedded engineers  c/c    linux ',\n",
              "       'qa qc engineer  auto/manual/embedded ',\n",
              "       'embedded android engineer  linux ',\n",
              "       'embedded qa engineer  qa qc  tester ',\n",
              "       'frontend dev  reactjs  vuejs  angular ', 'front-end developer',\n",
              "       'senior frontend developer  angular ',\n",
              "       'frontend dev  vuejs/nuxtjs ',\n",
              "       'senior frontend developer  javascript/html/css ',\n",
              "       'front end developer', 'frontend dev  angular/reactjs  ~  ',\n",
              "       'senior/ lead frontend developer  angularjs/reactjs ',\n",
              "       ' vcs    frontend devs  angular  javascript ',\n",
              "       'frontend developer  html/css/javascript ',\n",
              "       'sr frontend dev  javascript/html/css ',\n",
              "       'mid frontend dev  javascript/html/css ',\n",
              "       '  jr - sr. frontend developer  reactjs/typescript ',\n",
              "       'mid/sr frontend developer  reactjs  javascript  html  ',\n",
              "       'front-end dev  javascript  - up to   ',\n",
              "       'frontend dev  reactjs/javascript/css ',\n",
              "       'frontend dev  javascript/reactjs ~hybrid',\n",
              "       '  sr/mid frontend dev  reactjs  ~   ',\n",
              "       'frontend reactjs dev  middle/senior ',\n",
              "       'frontend developer  javascript  vuejs ',\n",
              "       'frontend developer  reactjs/typescript ',\n",
              "       'sr. front-end dev  reactjs  javascript ',\n",
              "       'frontend developer  javascript/html  ',\n",
              "       'frontend developer  reactjs/vuejs ',\n",
              "       'frontend dev  javascript  reactjs  html  ',\n",
              "       'front end dev  javascript  reactjs ',\n",
              "       'senior frontend dev  reactjs  javascript  up to   ',\n",
              "       'front-end developer  react native ',\n",
              "       'front-end developer  javascript  html  css  servicenow ',\n",
              "       'frontend developer  vue.js  reactjs ',\n",
              "       'junior frontend developer  html; css; javascript ',\n",
              "       'frontend developer  javascript/html/css ',\n",
              "       'front-end dev  html/css  -sign on bonus',\n",
              "       'frontend developer  javascript html css ',\n",
              "       'frontend developer  javascript/html /css/ui-ux ',\n",
              "       'lead frontend dev  javascript/html/css ',\n",
              "       'front-end developer  html   wordpress ',\n",
              "       'frontend developer  reactjs  nodejs ',\n",
              "       'frontend dev  vuejs/reactjs  - all level',\n",
              "       'frontend dev  javascript/reactjs ~ m',\n",
              "       'front-end developer  vuejs/reactjs  - up to     ',\n",
              "       'frontend developer  javascript  reactjs ',\n",
              "       'sr frontend developers  reactjs/vuejs ',\n",
              "       'frontend developer  reactjs  javascript ',\n",
              "       'senior frontend developer  reactjs ',\n",
              "       'sr. front-end dev  javascript  angular ',\n",
              "       'frontend developer  angular/vuejs ',\n",
              "       'lead frontend dev typescript  html  css ',\n",
              "       'frontend dev  javascript  html   css ',\n",
              "       'frontend dev vuejs/reactjs/typescript ',\n",
              "       'frontend developer  angular/javascript ',\n",
              "       'frontend dev angular/reactjs/javascript',\n",
              "       'it - frontend developer  react js ',\n",
              "       'frontend developer  reactjs/vuejs/html  ',\n",
              "       'frontend dev  vuejs  reactjs  angular ',\n",
              "       'front end developer  angularjs/reactjs ',\n",
              "       'frontend dev  reactjs  micro-frontend ',\n",
              "       'frontend dev  javascript/css/html  ',\n",
              "       'frontend developer  da nang  hcmc ',\n",
              "       'frontend developer  reactjs  vuejs ',\n",
              "       'front end dev  javascript  html   css ',\n",
              "       'frontend developer  wfh to   ',\n",
              "       '[di ] frontend dev  angular  - y ',\n",
              "       'mid/senior frontend developer  reactjs ',\n",
              "       'junior front-end dev  vuejs/nuxtjs ',\n",
              "       'remote sr frontend dev  javascript ',\n",
              "       'middle frontend developer  reactjs ',\n",
              "       'front end dev  reactjs  html  ', 'front-end developer  up to    ',\n",
              "       'front-end developer  reactjs ',\n",
              "       'sr. frontend dev  angular/reactjs/vuejs ',\n",
              "       'frontend developer  reactjs  html   css ',\n",
              "       'frontend web dev  javascript  reactjs ',\n",
              "       'front end developer  vuejs  english ',\n",
              "       'frontend developer  javascript/reactjs ',\n",
              "       'frontend developer  javascript/ reactjs/ vuejs/english ',\n",
              "       'senior frontend dev  reactjs/typescript ',\n",
              "       'front end developer  reactjs  vuejs ',\n",
              "       'frontend dev [reactjs] upto  . k',\n",
              "       'fresher/ junior frontend developer',\n",
              "       'jr web dev  reactjs/html/css  up to  m',\n",
              "       'senior/mid web dev  php/laravel/vuejs ',\n",
              "       'web developer  javascript html   ui-ux ',\n",
              "       'web developer  cake php  laravel  java ',\n",
              "       'sr. fullstack dev  vuejs/python/golang ',\n",
              "       'full-stack java developer - up to   ',\n",
              "       'full-stack java dev  sql  javascript ',\n",
              "       'senior full-stack php developer  magento  mysql ',\n",
              "       'fullstack dev  mern stack ~signing bonus',\n",
              "       'fullstack java developer   sign-on bonus ',\n",
              "       'fullstack developers  java  reactjs ',\n",
              "       'fullstack developer  javascript ',\n",
              "       'fullstack developer  php  nodejs ',\n",
              "       'fullstack developer  reactjs  nodejs ',\n",
              "       'fullstack developer  java/angular/mysql ',\n",
              "       'fullstack dev  javascript  nodejs  css ',\n",
              "       'fullstack dev  nodejs  python  reactjs ',\n",
              "       'fullstack developer  php/javascript ',\n",
              "       'senior fullstack developer  java  react ',\n",
              "       'senior fullstack dev  python  reactjs ',\n",
              "       'remote-fullstack dev  javascript/nodejs ',\n",
              "       'fullstack developer  javascript/reactjs ',\n",
              "       'senior fullstack developer - hn & hcmc',\n",
              "       'jr. full stack dev nodejs  reactjs ', 'full stack developer',\n",
              "       'fullstack web developer  java  nodejs  reactjs ',\n",
              "       '  fullstack dev  nodejs  reactjs ',\n",
              "       'fullstack developer  nodejs/ reactjs/ javascript ',\n",
              "       'urgent   java fullstack developer',\n",
              "       'full stack developer  java  javascript ',\n",
              "       'fullstack dev   nodejs  reactjs/vuejs ',\n",
              "       'full stack dev  javascript  reactjs ',\n",
              "       '  java fullstack developer',\n",
              "       'fullstack php developer laravel/angular',\n",
              "       'full-stack dev  java/nodejs - all level ',\n",
              "       '  full stack devs  php/mysql/vuejs ',\n",
              "       'fullstack developer  java/ c#/ reactjs ',\n",
              "       'senior fullstack php dev  linux/english ',\n",
              "       'fresh fullstack dev  javascript/python ',\n",
              "       'sr full-stack nodejs/react dev  remote ',\n",
              "       'fullstack developer  golang/ nodejs ',\n",
              "       'web developer  reactjs  typescript ',\n",
              "       ' senior  java developer  hn/hcm ',\n",
              "       'mid/senior java developer  joing bonus ',\n",
              "       'java developer  linux ', '  java dev  spring  postgresql  ~  ',\n",
              "       'sign on bonus - java dev  kotlin/vuejs/azure ~  ',\n",
              "       'java developer  english  bootstrap  html ',\n",
              "       'java developer   j ee  spring  english ',\n",
              "       'java developer  mysql  spring  oracle ',\n",
              "       'java developer  up to   usd ',\n",
              "       'all levels java dev  spring  oop ~  ',\n",
              "       'java dev  spring  oop-  up to   ',\n",
              "       '[hybrid-hn] senior java dev-upto   ',\n",
              "       'java developer  middle/senior level ',\n",
              "       '  java developer  spring/sql ',\n",
              "       ' x java developer english pricing',\n",
              "       '  java developer   -  years – up to  k  ',\n",
              "       'java developer  signing bonus up to  m ',\n",
              "       'senior java developers',\n",
              "       'senior java developer  j ee  spring  - nha trang',\n",
              "       'middle/senior java developer',\n",
              "       'java developer  spring boot  java core ',\n",
              "       'java developer  oop  nosql ',\n",
              "       'senior java developer - joining bonus/us product',\n",
              "       'senior java developer',\n",
              "       'java dev  spring ~   net -   month signing bonus',\n",
              "       '[sign on bonus] java developer  spring  j ee  ~   ',\n",
              "       'software dev  java/angular/react native ',\n",
              "       '  senior java dev - spring boot  sql',\n",
              "       'java developer  all level ', 'angular developer/java developer',\n",
              "       'senior developer  java  jsp  spring ',\n",
              "       'java dev/tech lead     -   ',\n",
              "       'senior java developer  j ee  spring ',\n",
              "       'senior java developer  spring  j ee ',\n",
              "       'java developer  mid  senior ',\n",
              "       'software developer  java/nodejs/reactjs ',\n",
              "       'java developers  spring  mvc  - upto  m',\n",
              "       'mid/senior java dev -      bonus ',\n",
              "       '  senior/middle java web devs  spring ',\n",
              "       'java/hybris developer  joining bonus ',\n",
              "       'java developer  spring/mysql  ~   ',\n",
              "       '[tg ] java developer  spring  -  z ',\n",
              "       'sr java developer  java  microservices ',\n",
              "       'java developer  mid/sr  remote fulltime',\n",
              "       '  java developer  senior / middle ',\n",
              "       'senior java developer  java  spring ',\n",
              "       'java developers  spring oracle ',\n",
              "       'senior solution dev java/nodejs/reactjs',\n",
              "       '  mid java developers  sql/spring ',\n",
              "       'java developer  oop  spring ', 'oracle developer  java / oop ',\n",
              "       'java developer', 'java developer  spring  mysql ',\n",
              "       'java developer  spring boot  j ee ',\n",
              "       'java developer  da nang  hcmc ',\n",
              "       '  senior java developer  j ee/spring ',\n",
              "       'java developers  oop  sql  spring ',\n",
              "       'ai developers  java  python ',\n",
              "       'junior/ middle/ senior java developers',\n",
              "       'senior java developer  sql  spring ',\n",
              "       '  java developer  freshers   junior ',\n",
              "       'java api dev  spring  full tet bonus',\n",
              "       'zalopay  staff software engineer  java ',\n",
              "       'senior backend engineer  java ',\n",
              "       'senior backend software engineer  java ',\n",
              "       '  automation test lead  tester  qa qc  java  ~   ',\n",
              "       'kỹ sư phát triển tích hợp  java  .net ',\n",
              "       'cv phát triển corebanking  .net/java ',\n",
              "       'sr/team leader java - sign on bonus  java  agile ',\n",
              "       'mid/senior java software engineers',\n",
              "       '  backend engineer  java python golang ',\n",
              "       'technical lead / solution architect  java ',\n",
              "       '[middle/senior] java backend engineer  sign-on bonus ',\n",
              "       'technical lead  .net/java/ japanese ',\n",
              "       'backend/fullstack engineer  .net  java  reactjs ',\n",
              "       'android engineer  java/ kotlin ',\n",
              "       'java devs- middle/senior  spring boot  jquery  sql ',\n",
              "       'viettel digital - data engineer  python  java ',\n",
              "       'lead backend engineer  java ',\n",
              "       'data engineer lead  java/python/scala ',\n",
              "       '[remote]senior digital platform engineer  java ',\n",
              "       'viettel digital - project manager  java/php/nodejs ',\n",
              "       'java backend  middle/ senior  ~  usd', 'java technical manager',\n",
              "       'devops engineer  java/javascript  aws ',\n",
              "       'viettel digital - java backend  spring  sql ',\n",
              "       'senior java engineer  oop  spring ',\n",
              "       'middle backend engineer  java/golang/aws/cloud ',\n",
              "       'senior devops engineer  java  sql ',\n",
              "       'senior java engineers  spring  j ee ',\n",
              "       'java software engineer - cmb - hanoi  banking domain ',\n",
              "       'solution architect  java  full tet bonus',\n",
              "       'backend tech lead  java  full tet bonus',\n",
              "       'analyst  java application development',\n",
              "       'test engineer  qa qc  tester  java ',\n",
              "       'technical architect - java  hn hcm dn ',\n",
              "       'senior java engineer - up to     ',\n",
              "       'project manager / technical leader  java  ruby on rail ',\n",
              "       'java team leader/ senior - up to  m',\n",
              "       'giám sát & vận hành ht  java  c    php ',\n",
              "       'kỹ sư phát triển phần mềm  java/python ',\n",
              "       '  quality control  qa qc  java  android ',\n",
              "       'software engineer  c/c    java  - dn',\n",
              "       'java technical lead  joining bonus ',\n",
              "       'junior java  apac market -  month bonus',\n",
              "       'java backend engineer  fintech  ~  ',\n",
              "       'senior backend engineer  java  lambda ',\n",
              "       'senior android engineer  kotlin  java ',\n",
              "       'java engineer  j ee  sql  - up to   ',\n",
              "       'urgent sr backend  java/ruby -upto   ',\n",
              "       'java / golang engineer  all levels ',\n",
              "       '  automation tester  java  python ',\n",
              "       'mobile apps developer  reactnative ',\n",
              "       'ios mobile apps dev  swift  objective c  ~   triệu',\n",
              "       'mobile apps dev  ios  - up to   ',\n",
              "       '[junior] mobile apps developer  ios ',\n",
              "       'nodejs dev  bonus  .  tháng lương ',\n",
              "       '  developers  nodejs  reactjs ',\n",
              "       'javascript dev  nodejs/reactjs  -      bonus',\n",
              "       'senior nodejs developer  remote/hybrid ',\n",
              "       '[remote] javascript devs  vuejs/nodejs  - new branch',\n",
              "       'blockchain developer  golang  nodejs ',\n",
              "       'nodejs developer  javascript  typescript  ~   ',\n",
              "       'nodejs dev  javascript  typescript ',\n",
              "       'nodejs developer  middle/senior ',\n",
              "       'senior web developer  nodejs  reactjs ',\n",
              "       'senior nodejs developer  sql javascript ',\n",
              "       'developer  nodejs/reactjs/php ',\n",
              "       'nodejs developer  javascript mysql ',\n",
              "       'javascript developer  vuejs/nodejs ', 'senior nodejs developer',\n",
              "       'nodejs developer', 'nodejs developer  microservices ',\n",
              "       'web developer javascript/nodejs/reactjs ',\n",
              "       'nodejs developer  agile  sql ',\n",
              "       'nodejs developer  sql  nosql  ~  m',\n",
              "       'php developer  laravel/mysql  up to   k ',\n",
              "       'php developer  laravel  reactjs ',\n",
              "       'php developer laravel  javascript ~    ',\n",
              "       '[hn/hcm] php developers  mysql magento ',\n",
              "       'php devs  mysql  laravel  symfony ',\n",
              "       'php developer  drupal/magento/wordpress ',\n",
              "       'php developer  mvc  sql ',\n",
              "       'software developer  php  laravel  sql  - hybrid',\n",
              "       'mid/senior php developer  laravel/wordpress  ~     ',\n",
              "       'mid/sr php developer  mvc  laravel ', 'php developer  up to    ',\n",
              "       'php developers  laravel  mysql ',\n",
              "       'php dev  laravel ~   net -   month signing bonus',\n",
              "       'php developer  laravel  mysql ',\n",
              "       'mid/sr php dev  wordpress/woocommerce ',\n",
              "       'php developer  laravel  mvc ',\n",
              "       'wordpress developer  php  javascript ',\n",
              "       'php developer  php  mysql  laravel ', 'php dev  html   css ',\n",
              "       '  php senior developer', '  php developers  mysql/javascript ',\n",
              "       'php developer  laravel ', 'web developer  php  vuejs  ~   ',\n",
              "       'php developer  english ', 'php developer  wordpress  ui-ux ',\n",
              "       'software developer  php  laravel  mysql ',\n",
              "       'php developer  laravel  up to   ',\n",
              "       'senior php developer  magento ',\n",
              "       'shopify developer  php developer ', 'php developer',\n",
              "       'junior php developer  laravel  sql  ~ m',\n",
              "       'senior php dev  welcome bonus ',\n",
              "       'remote - php/ vuejs/ angular developer',\n",
              "       'junior php developer  laravel ',\n",
              "       'web developer  javascript/php/wordpress ',\n",
              "       'php developer  upto   usd ', 'magento developer  php  mysql ',\n",
              "       'jr. web developer  php/html /javascript ',\n",
              "       'senior php developer  laravel ', 'jr./mid developer  php/java ',\n",
              "       'php dev  javascript  html  ',\n",
              "       'php developer  laravel  wordpress ',\n",
              "       'software developer  sql  php  python ',\n",
              "       'wordpress developer  php  mysql ',\n",
              "       'php developer  mysql  wordpress ',\n",
              "       'urgent - php developers  laravel  mysql ',\n",
              "       'gấp -   php developer  laravel  mysql ',\n",
              "       'full remote/hybrid - php dev  laravel ',\n",
              "       'senior php dev  reactjs/symfony  ~  ',\n",
              "       'php developer  wordpress  mysql ',\n",
              "       'webs developer  wordpress  php  mysql ',\n",
              "       'php developers  mysql ~  ',\n",
              "       'odoo erp manager/ project manager/ product manager',\n",
              "       'head of product/product manager ~  ',\n",
              "       'viettel digital- quản trị giữ liệu  database  sql ',\n",
              "       'senior product owner  agile  english ',\n",
              "       'technical project manager', 'it project manager',\n",
              "       'project manager', 'product owner  english ',\n",
              "       '[remote] - senior product owner', 'project manager  upto    ',\n",
              "       'game producer/project manager', '  project managers',\n",
              "       'project manager  hardware/software ',\n",
              "       'project manager  pm  - from  . usd', 'product director',\n",
              "       'senior product owners', 'senior qa qc engineer  sign on bonus ',\n",
              "       'scrum master', 'qa qc / tester', 'scrum master  agile pm ',\n",
              "       'delivery manager', 'senior erp engineer', 'software architect',\n",
              "       'sr nodejs engineer  typescript  opp ', 'senior software qa',\n",
              "       'automation engineer  tester  qa qc  sql ',\n",
              "       'mobile dev  react native ', 'ui-ux team lead / senior',\n",
              "       'engineering manager', 'senior/mid front-end engineer  reactjs ',\n",
              "       'android engineer  kotlin   mid/senior ',\n",
              "       'frontend/fullstack  blockchain/defi ',\n",
              "       'scrum master  agile ~  m-  m', 'tech lead',\n",
              "       'sr/principal backend java ~  k - hybrid',\n",
              "       'fullstack javascript  reactjs   nodejs ',\n",
              "       'technical support engineer', 'manual tester  qa qc ',\n",
              "       ' -  sr. frontend backend-java/react/.net',\n",
              "       ' -  senior mobile  ios/android/flutter ',\n",
              "       '[remote] senior java developer  spring ',\n",
              "       'technical project manager  support  th salary ',\n",
              "       '  it project manager', 'scrum master  project manager/agile ',\n",
              "       'delivery/ project manager  english ', 'software project manager',\n",
              "       'senior technical project manager',\n",
              "       'senior project manager  agile/ scrum ',\n",
              "       'delivery/project manager  embedded/ c ',\n",
              "       'project/ technical manager  up to    ',\n",
              "       'project manager - full tet      bonus',\n",
              "       'engineering manager ~  usd  hybrid working ',\n",
              "       'scrum master  agile ', 'technical project executive',\n",
              "       'scrum master  english/sign-on bonus ',\n",
              "       'quản lý dự án  project manage  agile ',\n",
              "       'software test lead-bonus   month salary', 'game designer',\n",
              "       'staffing manager  engineer background ',\n",
              "       '  python/c# developer ~ upto   ',\n",
              "       'web developer  python  reactjs  django ',\n",
              "       'ai dev  python  data scientist   ~  ',\n",
              "       'python developer  django/flask ',\n",
              "       'software developer  python  odoo ',\n",
              "       '  python developers  django ', 'python developer  mysql  django ',\n",
              "       'python developer  django ', 'python developers  odoo  erp ',\n",
              "       'developer  python  linux ', 'senior data scientist  python  sql ',\n",
              "       'devops engineer  ci/cd  python  linux ',\n",
              "       'ai engineer  c/c  /python   - m', 'data engineer  scala  python ',\n",
              "       'technical artist  c    c#  python ',\n",
              "       'senior odoo engineer  javascript  python ',\n",
              "       'data engineer  python  oracle  ~  ',\n",
              "       'technical manager  golang  python  ruby ',\n",
              "       'devops engineer  python   -  ',\n",
              "       'viettel digital- data analyst  python  java  sql ',\n",
              "       'viettel digital- devops engineer  linux  python ',\n",
              "       'viettel digital- data scientist  python ',\n",
              "       'python  django  ~      signing bonus',\n",
              "       '  backend engineer  golang/python/java ',\n",
              "       '[tg ] data engineer  python  -  z ',\n",
              "       'software engineer r&d  c     python ',\n",
              "       'technical architect - python',\n",
              "       'automation test engineer  linux  python  - up to  m',\n",
              "       'firmware engineer  python  c    linux ',\n",
              "       'data engineer  python/sql/database ',\n",
              "       'software engineer  nodejs  python  go ',\n",
              "       'data engineer  etl/sql/python/gcp ',\n",
              "       'voice engineer  php  python  networking  ~  ',\n",
              "       'software engineer  c  / python/ java ',\n",
              "       'data engineer python  java  oracle   ',\n",
              "       'jr. backend engineer  java/python/mysql ',\n",
              "       'devops engineers  linux  python ', 'ai engineer  python/c  /c# ',\n",
              "       'automation tester  qa qc/python ',\n",
              "       'cvc/cvcc big data  java  python  oracle ',\n",
              "       'ml engineer  python  aws  linux ',\n",
              "       'junior devops engineer  python  linux ',\n",
              "       'python automation tester network domain ',\n",
              "       ' vht    kỹ sư trí tuệ nhân tạo  python ',\n",
              "       'technical leader  golang/python ',\n",
              "       'data engineer  sql/python/java ',\n",
              "       'machine learning engineer  java  python ', 'python data engineer',\n",
              "       'python fullstack  javascript  reactjs ',\n",
              "       'ai engineer  computer vision/python ~ k ',\n",
              "       'backend engineer  golang/python ',\n",
              "       'lead python software engineer  aws ',\n",
              "       'python software engineer  aws ',\n",
              "       'senior frontend/fullstack engineer',\n",
              "       'cloud engineer opennebula ~  ', 'senior full stack engineer',\n",
              "       'automation tester', 'senior devops  cloud/mail server/coding ',\n",
              "       'senior tester', 'automation test all levels  qa qc ',\n",
              "       'data analytic manager', 'zalopay  senior data scientist',\n",
              "       '  embedded software testers',\n",
              "       'mid/senior c   engineer -desktop/win/mac', 'senior data engineer',\n",
              "       'security feature test',\n",
              "       'lamp engineering manager  ha noi office ',\n",
              "       'senior automation test  qc/ tester ', 'data engineer',\n",
              "       'cloud / network server engineer',\n",
              "       'software test manager/test lead',\n",
              "       '  junior web developer  reactjs css typescript ',\n",
              "       'staff/sr. software engineer  fullstack ',\n",
              "       'data analyst  sql  english  python/sas ',\n",
              "       'backend engineer  python / scala ',\n",
              "       'senior software architect  android/ios ',\n",
              "       'it - software architect', 'automation tester  qa qc ',\n",
              "       ' senior  application support engineer', 'innovation manager',\n",
              "       'chuyên viên phát triển phần mềm ứng dụng  .net  c# ',\n",
              "       'technical architect  ruby on rails  go ', 'data architect',\n",
              "       'system architect upto   ', 'front-end lead  reactjs/ full-stack ',\n",
              "       'salesforce developer  open for fresher ', 'solution architecture',\n",
              "       '[remote] - senior golang engineer', 'senior application support',\n",
              "       'technical architect  java  aws  gcp ',\n",
              "       'solution architect  for enterprise ', 'backend engineer  java ',\n",
              "       'java technical lead - joining bonus',\n",
              "       'solution architect / technical leader',\n",
              "       'engineering/ technical manager',\n",
              "       'technical director ~ k - hybrid',\n",
              "       'it system administrator  infrastructure specialist ',\n",
              "       'junior system administrator',\n",
              "       'devops engineer  system engineer  linux ',\n",
              "       'system engineer  linux  cloud  - lương upto   triệu',\n",
              "       'devops / system engineer  aws  linux ',\n",
              "       'information security engineer  system admin/networking ',\n",
              "       'it security operation  system engineer/networking ',\n",
              "       'devops engineer  aws/system engineer ',\n",
              "       'system engineer  devops/aws ',\n",
              "       'system admin  system engineer/linux ',\n",
              "       'system engineer  cloud  networking ',\n",
              "       'system engineer  linux  english ', 'system engineer  linux ',\n",
              "       'sr system engineer  vmware & microsoft ',\n",
              "       ' cloud  devops engineer/lead',\n",
              "       'senior clerk or above  database  system admin ',\n",
              "       'devops engineer  linux/windows ',\n",
              "       'all level-  devops engineer  kubernetes ',\n",
              "       'chuyên viên an ninh bảo mật cntt  security  networking ',\n",
              "       'system admin', 'information security analyst',\n",
              "       'infrastructure engineer – inf ', 'senior security specialist',\n",
              "       'senior qc engineer  qc  tester  - up to     ',\n",
              "       'kỹ sư an toàn thông tin  it security ',\n",
              "       'kỹ sư quản trị hệ thống  system admin ',\n",
              "       'security engineer  up to senior ',\n",
              "       'kỹ sư bảo mật  system security/ networking security ',\n",
              "       'penetration tester  security/networking ', 'senior system admin',\n",
              "       'it application support  sql ',\n",
              "       'technical support engineer  it support ',\n",
              "       'noc engineer  cloud  aws ', 'networking/security engineer',\n",
              "       'senior systems engineer', '[hcm] security lead',\n",
              "       'an ninh thông tin  information security ',\n",
              "       'quản trị mạng & an ninh bảo mật', '[remote] - sr devops engineer',\n",
              "       'application security engineer',\n",
              "       'application support engineer  / ',\n",
              "       'cvcc vận hành và hỗ trợ ứng dụng',\n",
              "       'senior qc engineer  qc  tester ', 'giám đốc cntt - it director',\n",
              "       'security engineer  networking  linux ',\n",
              "       'sysops / devops / it-i admin', 'senior network engineer',\n",
              "       'ui-ux designer', 'system admin  cloud  aws  python  js ',\n",
              "       'network engineer', 'mid/sr. system admin - upto    net',\n",
              "       'mobile team leader reactnative  flutter ',\n",
              "       'team leader .net  c#   asp.net ',\n",
              "       'qc engineer  senior/lead level ',\n",
              "       'software engineer/team leader .net ios ',\n",
              "       'senior/ lead qc  qa qc  tester ',\n",
              "       '.net technical leader/team leader', 'test leader',\n",
              "       'qc teamleader', 'tester leader  qa/qc ',\n",
              "       '[urgent] senior qc qa engineer  tester ', 'devops lead',\n",
              "       'ui-ux design leader/ senior ~   ',\n",
              "       ' -  senior ui/ux designer  upto    ',\n",
              "       'tester/qc/test leader  dự án banking ',\n",
              "       'senior quality assurance engineer  qa qc/tester/agile ',\n",
              "       'qc engineer  automation tester/ qa qc ',\n",
              "       'quality assurance engineer  qa  tester ',\n",
              "       'software automation tester', 'software tester',\n",
              "       'mid/senior qa qc tester  english ',\n",
              "       'junior/middle qa qc / tester  ui-ux ',\n",
              "       'test engineer  qa qc/tester ', 'manual tester  qa qc  tester ',\n",
              "       'manual tester  sql  api ', 'automation tester  my sql  qa qc ',\n",
              "       'automation tester  c#/ sql/qa qc ',\n",
              "       'senior qc engineer  tester  qa qc ',\n",
              "       'senior qc  tester/qa/ kiểm thử phần mềm ',\n",
              "       'qc engineer  qa  qc  tester ', 'manual tester',\n",
              "       'qc engineer  qa/qc/tester ',\n",
              "       'automation test engineer  c#/tester/oop ',\n",
              "       '[sign on bonus] tester  qa qc  sql  up to   ',\n",
              "       'manual tester  qa qc / sql ', 'qa/qc engineer / tester',\n",
              "       'senior qa/ qc engineer  tester/java ',\n",
              "       'jr/mid/sr manual tester  qa qc ', 'qc engineer  qa qc  tester ',\n",
              "       'manual tester / qa qc  mobile app ',\n",
              "       'senior automation tester - sign-on bonus',\n",
              "       '  quality assurance engineer  tester ',\n",
              "       'sr. qa engineer/ automation tester~  ', 'qa qc engineer  tester ',\n",
              "       'junior qa tester  upto    ',\n",
              "       'qa automation engineer  qa qc  tester ', 'qa  manual  tester',\n",
              "       'tester  manual & automation/ english ',\n",
              "       'automation tester  all levels  - sign on-bonus',\n",
              "       'senior automation tester',\n",
              "       'manual software tester  agile/ qa qc ',\n",
              "       'senior manual tester  wfh to   ',\n",
              "       'qa  manual  tester - sign on bonus',\n",
              "       'automation qc engineer  tester ', 'manual tester / qa qc  sql ',\n",
              "       'automation tester  selenium  - up to  m', 'qc software tester',\n",
              "       'manual tester - up to   ', 'middle manual tester  wfh to   ',\n",
              "       '  manual tester  qa qc ', 'manual tester  qa qc  agile ',\n",
              "       'quality assurance manager  qa qc/tester ',\n",
              "       'qc engineer / manual tester  all level ',\n",
              "       'mobile qa tester  qa qc ', 'software tester  manual/automation ',\n",
              "       'automation qa qc  tester  full tet bonus',\n",
              "       'senior software qc/tester', 'junior/middle software tester  qc ',\n",
              "       'tester/ qa qc  automation ', 'qa engineer  qa qc  tester ',\n",
              "       'manual/automation tester  qa qc/english ',\n",
              "       'qa/tester manager  agile/scrum/qa qc ',\n",
              "       '[hcm-hn] qc engineer  tester ',\n",
              "       'senior manual software tester  qa qc ',\n",
              "       '[di ] tester  automation/ manual  - y ',\n",
              "       'quality control  qa qc/ tester  english ', 'tester  qa/qc ',\n",
              "       'manual qc engineer  qa qc  tester ',\n",
              "       'qa qc engineer  tester  sr to manager',\n",
              "       '  seinor tester  qc engineer/mobile app ',\n",
              "       '[hcm-dn] junior/senior automation tester',\n",
              "       'junior/middle manual tester  qa/qc ',\n",
              "       'senior automation engineer - up to   ',\n",
              "       'manual test engineer  qa/qc ', 'testers  qa qc ',\n",
              "       'embedded test lead  qa/qc lead -bonus',\n",
              "       'senior/ medior qa engineer - cmb - hanoi',\n",
              "       'automation test engineer~   ',\n",
              "       '  embedded sw test  qa qc   sign-on bonus ',\n",
              "       'qc manual engineer  web/mobile testing ', 'qc manager  qc lead ',\n",
              "       'viettel digital - process quality assurance  qa qc ',\n",
              "       'qa engineer', 'automation qa  senior/leader ',\n",
              "       'qc engineer  nha trang ', 'ui/ux designer      -     ',\n",
              "       'senior ux/ui designer', '[remote] - ui/ux designer',\n",
              "       'ui/ux designer', 'ui/ux developer  designer/html  ',\n",
              "       'ux/ui designer - product/app',\n",
              "       'ux/ui designer_ part time/full time',\n",
              "       'fresher/junior ui ux designer', 'senior product ux/ui designer',\n",
              "       'remote - product designer  ui-ux ',\n",
              "       'senior mobile app developer  ios/swift ',\n",
              "       'senior ios developer  swift ',\n",
              "       'senior ios developer  swift/objective c ',\n",
              "       'viettel digital - ios developer  objective-c  swift ',\n",
              "       'ios developer  swiftui ', 'ios developer  swift ',\n",
              "       'remote mid/sr ios developer  swift  objective-c ',\n",
              "       'tuyển gấp   ios developer', 'up to    -   ios developers  swift ',\n",
              "       'ios developer  objective c/swift '], dtype=object)"
            ]
          },
          "metadata": {},
          "execution_count": 819
        }
      ]
    },
    {
      "cell_type": "code",
      "source": [
        "df['title'] = df['title'].str.replace('dev ', 'developer ')\n",
        "df['title'] = df['title'].str.replace('dev$', 'developer')\n",
        "df['title'] = df['title'].str.replace('devs ', 'developer ')\n",
        "df['title'] = df['title'].str.replace('system ', 'systems ')\n",
        "df['title'] = df['title'].str.replace('test ', 'tester')\n",
        "df['title'] = df['title'].str.replace('architecture', 'architect ')\n",
        "df['title'] = df['title'].str.replace('design', 'designer ')\n",
        "df['title'] = df['title'].str.replace('games ', 'game ')"
      ],
      "metadata": {
        "colab": {
          "base_uri": "https://localhost:8080/"
        },
        "id": "04lsW35VdzMT",
        "outputId": "97d04bd0-df04-4b4f-9600-883bef36a54d"
      },
      "execution_count": null,
      "outputs": [
        {
          "output_type": "stream",
          "name": "stderr",
          "text": [
            "/usr/local/lib/python3.7/dist-packages/ipykernel_launcher.py:2: FutureWarning: The default value of regex will change from True to False in a future version.\n",
            "  \n"
          ]
        }
      ]
    },
    {
      "cell_type": "code",
      "source": [
        "# tạo một list chứa các danh sách các nghề trong it\n",
        "listJob = ['Computer Programmer', 'product',\n",
        "'Database Administrator',\n",
        "'Web Developer', 'tester',\n",
        "'Information security','Computer security','Computer network','Systems','Data science','Network administrator','systems analyst','Technical Support',\n",
        "'Information technology management','Engineer','Network Engineer','Technician','Manager','python',\n",
        "'Network and Computer Systems Administrators','Business intelligence','Software engineering', 'scrum master',\n",
        "'Computer hardware engineer','Computer Support Specialists','it service management','business analysis','security',\n",
        "'Data analysis','Network architecture','Data Scientist','mobile developer','kỹ sư cầu nối', 'designer', 'services',\n",
        "'Data Analyst','Computer scientist','Director','Software Architect','Webmaster','Cloud computing', 'application', 'devops', \n",
        "'Computer repair technician','Management information system','Computer and Information Research Scientists','Video game design','IT Consultant','Architecture','Web design','game developer','Computing',\n",
        "'Business Analyst','User experience design','Information systems technicial','Frontend','Java',\n",
        "'Software', 'Computer forensics', 'Computer and Information Systems Managers','Web development', 'architect', 'Product Management', 'ios developer', 'mobile', 'net developer', 'backend', 'developer']"
      ],
      "metadata": {
        "id": "TzUGN83QWpg1"
      },
      "execution_count": null,
      "outputs": []
    },
    {
      "cell_type": "code",
      "source": [
        "def getType(string):\n",
        "  result = None\n",
        "  for job in listJob:\n",
        "    job = job.lower()\n",
        "   \n",
        "    index = string.find(job) \n",
        "    \n",
        "    if index >= 0:\n",
        "      result = job\n",
        "      break\n",
        "  return result"
      ],
      "metadata": {
        "id": "u_z5XEdXW207"
      },
      "execution_count": null,
      "outputs": []
    },
    {
      "cell_type": "code",
      "source": [
        "df['types'] = df['title'].apply(lambda string: getType(string))"
      ],
      "metadata": {
        "id": "s5XBvHCKZUKM"
      },
      "execution_count": null,
      "outputs": []
    },
    {
      "cell_type": "code",
      "source": [
        "df['types'].unique()"
      ],
      "metadata": {
        "colab": {
          "base_uri": "https://localhost:8080/"
        },
        "id": "gv7LP2cVZYDU",
        "outputId": "1764c997-a91d-47c6-985c-6e178a05dc1d"
      },
      "execution_count": null,
      "outputs": [
        {
          "output_type": "execute_result",
          "data": {
            "text/plain": [
              "array(['net developer', 'backend', 'developer', 'java', 'web developer',\n",
              "       'software', 'python', 'application', 'mobile developer', 'mobile',\n",
              "       'game developer', 'ios developer', 'frontend', 'engineer',\n",
              "       'kỹ sư cầu nối', 'business analyst', 'systems', 'product',\n",
              "       'data analyst', 'business intelligence', 'manager', 'tester',\n",
              "       'software architect', 'it service management', 'business analysis',\n",
              "       'services', None, 'scrum master', 'technical support', 'designer',\n",
              "       'devops', 'data scientist', 'security', 'architect', 'director',\n",
              "       'information security'], dtype=object)"
            ]
          },
          "metadata": {},
          "execution_count": 824
        }
      ]
    },
    {
      "cell_type": "code",
      "source": [
        "df['types'].value_counts()"
      ],
      "metadata": {
        "colab": {
          "base_uri": "https://localhost:8080/"
        },
        "id": "2-1Gii36aOQj",
        "outputId": "3d2c9c6e-827f-4beb-9e32-76f23684929f"
      },
      "execution_count": null,
      "outputs": [
        {
          "output_type": "execute_result",
          "data": {
            "text/plain": [
              "java                     484\n",
              "developer                223\n",
              "frontend                 150\n",
              "python                   146\n",
              "tester                   142\n",
              "engineer                 142\n",
              "backend                  103\n",
              "web developer             97\n",
              "business analyst          82\n",
              "product                   79\n",
              "manager                   60\n",
              "net developer             49\n",
              "mobile developer          40\n",
              "systems                   28\n",
              "mobile                    26\n",
              "designer                  14\n",
              "software                  14\n",
              "ios developer             11\n",
              "software architect        11\n",
              "scrum master               9\n",
              "game developer             9\n",
              "architect                  7\n",
              "services                   7\n",
              "security                   6\n",
              "application                5\n",
              "technical support          4\n",
              "it service management      4\n",
              "data analyst               4\n",
              "devops                     3\n",
              "kỹ sư cầu nối              3\n",
              "information security       3\n",
              "business intelligence      2\n",
              "director                   2\n",
              "business analysis          1\n",
              "data scientist             1\n",
              "Name: types, dtype: int64"
            ]
          },
          "metadata": {},
          "execution_count": 825
        }
      ]
    },
    {
      "cell_type": "code",
      "source": [
        "len(df['types'].unique())"
      ],
      "metadata": {
        "colab": {
          "base_uri": "https://localhost:8080/"
        },
        "id": "bKBzoACndHvM",
        "outputId": "2f08c3de-8dfb-46e7-a521-8367ac0f4494"
      },
      "execution_count": null,
      "outputs": [
        {
          "output_type": "execute_result",
          "data": {
            "text/plain": [
              "36"
            ]
          },
          "metadata": {},
          "execution_count": 826
        }
      ]
    },
    {
      "cell_type": "code",
      "source": [
        "df.dropna(inplace = True)"
      ],
      "metadata": {
        "id": "SEJ4moINlKJU"
      },
      "execution_count": null,
      "outputs": []
    },
    {
      "cell_type": "markdown",
      "source": [
        "#### chia cắt các skil trong cột skill."
      ],
      "metadata": {
        "id": "z7rp0-O-kaTA"
      }
    },
    {
      "cell_type": "code",
      "source": [
        "df.head()"
      ],
      "metadata": {
        "colab": {
          "base_uri": "https://localhost:8080/",
          "height": 206
        },
        "id": "8A_t7Pbfkhol",
        "outputId": "2170704b-c255-447a-e077-2068f76f3610"
      },
      "execution_count": null,
      "outputs": [
        {
          "output_type": "execute_result",
          "data": {
            "text/plain": [
              "   Unnamed: 0                                              title  \\\n",
              "0           0             asp.net developer  c# .net/sql server    \n",
              "1           1            mid/senior .net developer -      bonus    \n",
              "2           2  fulltime/freelancer - backend developer  c#  ....   \n",
              "3           3                      .net developer  .netcore  c#    \n",
              "4           4  sign in bonus - c#  .net  angular developer -u...   \n",
              "\n",
              "                                    skill  \\\n",
              "0  [\\n.net\\n\\n, \\nsql\\n\\n, \\nasp.net\\n\\n]   \n",
              "1  [\\n.net\\n\\n, \\nsql\\n\\n, \\nenglish\\n\\n]   \n",
              "2    [\\nc#\\n\\n, \\nnodejs\\n\\n, \\n.net\\n\\n]   \n",
              "3    [\\n.net\\n\\n, \\nc#\\n\\n, \\nnodejs\\n\\n]   \n",
              "4   [\\nc#\\n\\n, \\n.net\\n\\n, \\nangular\\n\\n]   \n",
              "\n",
              "                                             address  \\\n",
              "0  \\n153 ung van khiem, ward 25, binh thanh distr...   \n",
              "1  \\n2 nguyen the loc, ward 12, tan binh, ho chi ...   \n",
              "2  \\ntầng 2, indochina riverside - 74 bạch đằng, ...   \n",
              "3  \\nlotte tower, 54 lieu giai, ba dinh, ha noi\\n...   \n",
              "4  \\nhoa binh tower, 106 hoang quoc viet, nghia d...   \n",
              "\n",
              "                                  skillAndExperience  \\\n",
              "0  \\n\\nworking with young, healthy, ambitious and...   \n",
              "1  \\ncompetitive salary and brilliant health bene...   \n",
              "2  \\nngày nghỉ:nghỉ lễ, nghỉ phép, nghỉ việc riên...   \n",
              "3  \\npanasonic r&d center vietnam was established...   \n",
              "4  \\nthu nhập cạnh tranh và nhiều cơ hội phát tri...   \n",
              "\n",
              "                                              title1          types  \n",
              "0             asp.net developer (c# .net/sql server)  net developer  \n",
              "1               mid/senior .net dev - $2800 (+bonus)  net developer  \n",
              "2  fulltime/freelancer - backend dev (c#, .net, n...        backend  \n",
              "3                      .net developer (.netcore, c#)  net developer  \n",
              "4  sign in bonus - c#, .net, angular dev -upto 2000$      developer  "
            ],
            "text/html": [
              "\n",
              "  <div id=\"df-32c4a5a1-0b85-423a-90c3-6be0af5d25c0\">\n",
              "    <div class=\"colab-df-container\">\n",
              "      <div>\n",
              "<style scoped>\n",
              "    .dataframe tbody tr th:only-of-type {\n",
              "        vertical-align: middle;\n",
              "    }\n",
              "\n",
              "    .dataframe tbody tr th {\n",
              "        vertical-align: top;\n",
              "    }\n",
              "\n",
              "    .dataframe thead th {\n",
              "        text-align: right;\n",
              "    }\n",
              "</style>\n",
              "<table border=\"1\" class=\"dataframe\">\n",
              "  <thead>\n",
              "    <tr style=\"text-align: right;\">\n",
              "      <th></th>\n",
              "      <th>Unnamed: 0</th>\n",
              "      <th>title</th>\n",
              "      <th>skill</th>\n",
              "      <th>address</th>\n",
              "      <th>skillAndExperience</th>\n",
              "      <th>title1</th>\n",
              "      <th>types</th>\n",
              "    </tr>\n",
              "  </thead>\n",
              "  <tbody>\n",
              "    <tr>\n",
              "      <th>0</th>\n",
              "      <td>0</td>\n",
              "      <td>asp.net developer  c# .net/sql server</td>\n",
              "      <td>[\\n.net\\n\\n, \\nsql\\n\\n, \\nasp.net\\n\\n]</td>\n",
              "      <td>\\n153 ung van khiem, ward 25, binh thanh distr...</td>\n",
              "      <td>\\n\\nworking with young, healthy, ambitious and...</td>\n",
              "      <td>asp.net developer (c# .net/sql server)</td>\n",
              "      <td>net developer</td>\n",
              "    </tr>\n",
              "    <tr>\n",
              "      <th>1</th>\n",
              "      <td>1</td>\n",
              "      <td>mid/senior .net developer -      bonus</td>\n",
              "      <td>[\\n.net\\n\\n, \\nsql\\n\\n, \\nenglish\\n\\n]</td>\n",
              "      <td>\\n2 nguyen the loc, ward 12, tan binh, ho chi ...</td>\n",
              "      <td>\\ncompetitive salary and brilliant health bene...</td>\n",
              "      <td>mid/senior .net dev - $2800 (+bonus)</td>\n",
              "      <td>net developer</td>\n",
              "    </tr>\n",
              "    <tr>\n",
              "      <th>2</th>\n",
              "      <td>2</td>\n",
              "      <td>fulltime/freelancer - backend developer  c#  ....</td>\n",
              "      <td>[\\nc#\\n\\n, \\nnodejs\\n\\n, \\n.net\\n\\n]</td>\n",
              "      <td>\\ntầng 2, indochina riverside - 74 bạch đằng, ...</td>\n",
              "      <td>\\nngày nghỉ:nghỉ lễ, nghỉ phép, nghỉ việc riên...</td>\n",
              "      <td>fulltime/freelancer - backend dev (c#, .net, n...</td>\n",
              "      <td>backend</td>\n",
              "    </tr>\n",
              "    <tr>\n",
              "      <th>3</th>\n",
              "      <td>3</td>\n",
              "      <td>.net developer  .netcore  c#</td>\n",
              "      <td>[\\n.net\\n\\n, \\nc#\\n\\n, \\nnodejs\\n\\n]</td>\n",
              "      <td>\\nlotte tower, 54 lieu giai, ba dinh, ha noi\\n...</td>\n",
              "      <td>\\npanasonic r&amp;d center vietnam was established...</td>\n",
              "      <td>.net developer (.netcore, c#)</td>\n",
              "      <td>net developer</td>\n",
              "    </tr>\n",
              "    <tr>\n",
              "      <th>4</th>\n",
              "      <td>4</td>\n",
              "      <td>sign in bonus - c#  .net  angular developer -u...</td>\n",
              "      <td>[\\nc#\\n\\n, \\n.net\\n\\n, \\nangular\\n\\n]</td>\n",
              "      <td>\\nhoa binh tower, 106 hoang quoc viet, nghia d...</td>\n",
              "      <td>\\nthu nhập cạnh tranh và nhiều cơ hội phát tri...</td>\n",
              "      <td>sign in bonus - c#, .net, angular dev -upto 2000$</td>\n",
              "      <td>developer</td>\n",
              "    </tr>\n",
              "  </tbody>\n",
              "</table>\n",
              "</div>\n",
              "      <button class=\"colab-df-convert\" onclick=\"convertToInteractive('df-32c4a5a1-0b85-423a-90c3-6be0af5d25c0')\"\n",
              "              title=\"Convert this dataframe to an interactive table.\"\n",
              "              style=\"display:none;\">\n",
              "        \n",
              "  <svg xmlns=\"http://www.w3.org/2000/svg\" height=\"24px\"viewBox=\"0 0 24 24\"\n",
              "       width=\"24px\">\n",
              "    <path d=\"M0 0h24v24H0V0z\" fill=\"none\"/>\n",
              "    <path d=\"M18.56 5.44l.94 2.06.94-2.06 2.06-.94-2.06-.94-.94-2.06-.94 2.06-2.06.94zm-11 1L8.5 8.5l.94-2.06 2.06-.94-2.06-.94L8.5 2.5l-.94 2.06-2.06.94zm10 10l.94 2.06.94-2.06 2.06-.94-2.06-.94-.94-2.06-.94 2.06-2.06.94z\"/><path d=\"M17.41 7.96l-1.37-1.37c-.4-.4-.92-.59-1.43-.59-.52 0-1.04.2-1.43.59L10.3 9.45l-7.72 7.72c-.78.78-.78 2.05 0 2.83L4 21.41c.39.39.9.59 1.41.59.51 0 1.02-.2 1.41-.59l7.78-7.78 2.81-2.81c.8-.78.8-2.07 0-2.86zM5.41 20L4 18.59l7.72-7.72 1.47 1.35L5.41 20z\"/>\n",
              "  </svg>\n",
              "      </button>\n",
              "      \n",
              "  <style>\n",
              "    .colab-df-container {\n",
              "      display:flex;\n",
              "      flex-wrap:wrap;\n",
              "      gap: 12px;\n",
              "    }\n",
              "\n",
              "    .colab-df-convert {\n",
              "      background-color: #E8F0FE;\n",
              "      border: none;\n",
              "      border-radius: 50%;\n",
              "      cursor: pointer;\n",
              "      display: none;\n",
              "      fill: #1967D2;\n",
              "      height: 32px;\n",
              "      padding: 0 0 0 0;\n",
              "      width: 32px;\n",
              "    }\n",
              "\n",
              "    .colab-df-convert:hover {\n",
              "      background-color: #E2EBFA;\n",
              "      box-shadow: 0px 1px 2px rgba(60, 64, 67, 0.3), 0px 1px 3px 1px rgba(60, 64, 67, 0.15);\n",
              "      fill: #174EA6;\n",
              "    }\n",
              "\n",
              "    [theme=dark] .colab-df-convert {\n",
              "      background-color: #3B4455;\n",
              "      fill: #D2E3FC;\n",
              "    }\n",
              "\n",
              "    [theme=dark] .colab-df-convert:hover {\n",
              "      background-color: #434B5C;\n",
              "      box-shadow: 0px 1px 3px 1px rgba(0, 0, 0, 0.15);\n",
              "      filter: drop-shadow(0px 1px 2px rgba(0, 0, 0, 0.3));\n",
              "      fill: #FFFFFF;\n",
              "    }\n",
              "  </style>\n",
              "\n",
              "      <script>\n",
              "        const buttonEl =\n",
              "          document.querySelector('#df-32c4a5a1-0b85-423a-90c3-6be0af5d25c0 button.colab-df-convert');\n",
              "        buttonEl.style.display =\n",
              "          google.colab.kernel.accessAllowed ? 'block' : 'none';\n",
              "\n",
              "        async function convertToInteractive(key) {\n",
              "          const element = document.querySelector('#df-32c4a5a1-0b85-423a-90c3-6be0af5d25c0');\n",
              "          const dataTable =\n",
              "            await google.colab.kernel.invokeFunction('convertToInteractive',\n",
              "                                                     [key], {});\n",
              "          if (!dataTable) return;\n",
              "\n",
              "          const docLinkHtml = 'Like what you see? Visit the ' +\n",
              "            '<a target=\"_blank\" href=https://colab.research.google.com/notebooks/data_table.ipynb>data table notebook</a>'\n",
              "            + ' to learn more about interactive tables.';\n",
              "          element.innerHTML = '';\n",
              "          dataTable['output_type'] = 'display_data';\n",
              "          await google.colab.output.renderOutput(dataTable, element);\n",
              "          const docLink = document.createElement('div');\n",
              "          docLink.innerHTML = docLinkHtml;\n",
              "          element.appendChild(docLink);\n",
              "        }\n",
              "      </script>\n",
              "    </div>\n",
              "  </div>\n",
              "  "
            ]
          },
          "metadata": {},
          "execution_count": 828
        }
      ]
    },
    {
      "cell_type": "code",
      "source": [
        "# hàm dùng để xóa các kí tự đặc biệt như \\n, [,], .....\n",
        "def removeCharacter(ColName, character, dataFrame):\n",
        "  return dataFrame[ColName].str.replace(character, '')"
      ],
      "metadata": {
        "id": "b2BYFbsXkqLb"
      },
      "execution_count": null,
      "outputs": []
    },
    {
      "cell_type": "code",
      "source": [
        "df['skill'] = removeCharacter('skill', '\\n', df)\n",
        "df['skill'] = removeCharacter('skill', '[', df)\n",
        "df['skill'] = removeCharacter('skill', ']', df)"
      ],
      "metadata": {
        "colab": {
          "base_uri": "https://localhost:8080/"
        },
        "id": "euLlFKOqkrEE",
        "outputId": "00c8850e-59ca-4625-d2ab-2e959d351e5c"
      },
      "execution_count": null,
      "outputs": [
        {
          "output_type": "stream",
          "name": "stderr",
          "text": [
            "/usr/local/lib/python3.7/dist-packages/ipykernel_launcher.py:3: FutureWarning: The default value of regex will change from True to False in a future version. In addition, single character regular expressions will *not* be treated as literal strings when regex=True.\n",
            "  This is separate from the ipykernel package so we can avoid doing imports until\n"
          ]
        }
      ]
    },
    {
      "cell_type": "code",
      "source": [
        "dataSkill = df[['Unnamed: 0', 'skill']]"
      ],
      "metadata": {
        "id": "w5WIyI7vkQBC"
      },
      "execution_count": null,
      "outputs": []
    },
    {
      "cell_type": "code",
      "source": [
        "# phân chuỗi trong cột skill ra list rồi thực chia theo cột unnamed: 0\n",
        "skill = pd.DataFrame(dataSkill.set_index('Unnamed: 0').skill.str.split(', ', expand=True).stack().reset_index(level=1, drop=True)).reset_index()"
      ],
      "metadata": {
        "id": "sVAjX3hXkd62"
      },
      "execution_count": null,
      "outputs": []
    },
    {
      "cell_type": "code",
      "source": [
        "# đổi tên cột 0 trong dataFrame skill thành 'skill_cut'\n",
        "skill.rename(columns = {0:'skill_cut'}, inplace = True)"
      ],
      "metadata": {
        "id": "zWECRz7yk1o_"
      },
      "execution_count": null,
      "outputs": []
    },
    {
      "cell_type": "code",
      "source": [
        "# gộp dataFrame df và skill vói nhay theo \"Unnameed: 0\"\n",
        "df = df.merge(skill, left_on = 'Unnamed: 0', right_on = 'Unnamed: 0')"
      ],
      "metadata": {
        "id": "PXEIRPrGk8oj"
      },
      "execution_count": null,
      "outputs": []
    },
    {
      "cell_type": "code",
      "source": [
        "# xem data mẫu\n",
        "df.head()"
      ],
      "metadata": {
        "colab": {
          "base_uri": "https://localhost:8080/",
          "height": 206
        },
        "id": "DtdwrOVok-Co",
        "outputId": "335b4952-4023-46bc-aebb-90fbb2057ac2"
      },
      "execution_count": null,
      "outputs": [
        {
          "output_type": "execute_result",
          "data": {
            "text/plain": [
              "   Unnamed: 0                                    title               skill  \\\n",
              "0           0   asp.net developer  c# .net/sql server   .net, sql, asp.net   \n",
              "1           0   asp.net developer  c# .net/sql server   .net, sql, asp.net   \n",
              "2           0   asp.net developer  c# .net/sql server   .net, sql, asp.net   \n",
              "3           1  mid/senior .net developer -      bonus   .net, sql, english   \n",
              "4           1  mid/senior .net developer -      bonus   .net, sql, english   \n",
              "\n",
              "                                             address  \\\n",
              "0  \\n153 ung van khiem, ward 25, binh thanh distr...   \n",
              "1  \\n153 ung van khiem, ward 25, binh thanh distr...   \n",
              "2  \\n153 ung van khiem, ward 25, binh thanh distr...   \n",
              "3  \\n2 nguyen the loc, ward 12, tan binh, ho chi ...   \n",
              "4  \\n2 nguyen the loc, ward 12, tan binh, ho chi ...   \n",
              "\n",
              "                                  skillAndExperience  \\\n",
              "0  \\n\\nworking with young, healthy, ambitious and...   \n",
              "1  \\n\\nworking with young, healthy, ambitious and...   \n",
              "2  \\n\\nworking with young, healthy, ambitious and...   \n",
              "3  \\ncompetitive salary and brilliant health bene...   \n",
              "4  \\ncompetitive salary and brilliant health bene...   \n",
              "\n",
              "                                   title1          types skill_cut  \n",
              "0  asp.net developer (c# .net/sql server)  net developer      .net  \n",
              "1  asp.net developer (c# .net/sql server)  net developer       sql  \n",
              "2  asp.net developer (c# .net/sql server)  net developer   asp.net  \n",
              "3    mid/senior .net dev - $2800 (+bonus)  net developer      .net  \n",
              "4    mid/senior .net dev - $2800 (+bonus)  net developer       sql  "
            ],
            "text/html": [
              "\n",
              "  <div id=\"df-5888822e-ea3e-4ffa-a037-2d43aed7bfad\">\n",
              "    <div class=\"colab-df-container\">\n",
              "      <div>\n",
              "<style scoped>\n",
              "    .dataframe tbody tr th:only-of-type {\n",
              "        vertical-align: middle;\n",
              "    }\n",
              "\n",
              "    .dataframe tbody tr th {\n",
              "        vertical-align: top;\n",
              "    }\n",
              "\n",
              "    .dataframe thead th {\n",
              "        text-align: right;\n",
              "    }\n",
              "</style>\n",
              "<table border=\"1\" class=\"dataframe\">\n",
              "  <thead>\n",
              "    <tr style=\"text-align: right;\">\n",
              "      <th></th>\n",
              "      <th>Unnamed: 0</th>\n",
              "      <th>title</th>\n",
              "      <th>skill</th>\n",
              "      <th>address</th>\n",
              "      <th>skillAndExperience</th>\n",
              "      <th>title1</th>\n",
              "      <th>types</th>\n",
              "      <th>skill_cut</th>\n",
              "    </tr>\n",
              "  </thead>\n",
              "  <tbody>\n",
              "    <tr>\n",
              "      <th>0</th>\n",
              "      <td>0</td>\n",
              "      <td>asp.net developer  c# .net/sql server</td>\n",
              "      <td>.net, sql, asp.net</td>\n",
              "      <td>\\n153 ung van khiem, ward 25, binh thanh distr...</td>\n",
              "      <td>\\n\\nworking with young, healthy, ambitious and...</td>\n",
              "      <td>asp.net developer (c# .net/sql server)</td>\n",
              "      <td>net developer</td>\n",
              "      <td>.net</td>\n",
              "    </tr>\n",
              "    <tr>\n",
              "      <th>1</th>\n",
              "      <td>0</td>\n",
              "      <td>asp.net developer  c# .net/sql server</td>\n",
              "      <td>.net, sql, asp.net</td>\n",
              "      <td>\\n153 ung van khiem, ward 25, binh thanh distr...</td>\n",
              "      <td>\\n\\nworking with young, healthy, ambitious and...</td>\n",
              "      <td>asp.net developer (c# .net/sql server)</td>\n",
              "      <td>net developer</td>\n",
              "      <td>sql</td>\n",
              "    </tr>\n",
              "    <tr>\n",
              "      <th>2</th>\n",
              "      <td>0</td>\n",
              "      <td>asp.net developer  c# .net/sql server</td>\n",
              "      <td>.net, sql, asp.net</td>\n",
              "      <td>\\n153 ung van khiem, ward 25, binh thanh distr...</td>\n",
              "      <td>\\n\\nworking with young, healthy, ambitious and...</td>\n",
              "      <td>asp.net developer (c# .net/sql server)</td>\n",
              "      <td>net developer</td>\n",
              "      <td>asp.net</td>\n",
              "    </tr>\n",
              "    <tr>\n",
              "      <th>3</th>\n",
              "      <td>1</td>\n",
              "      <td>mid/senior .net developer -      bonus</td>\n",
              "      <td>.net, sql, english</td>\n",
              "      <td>\\n2 nguyen the loc, ward 12, tan binh, ho chi ...</td>\n",
              "      <td>\\ncompetitive salary and brilliant health bene...</td>\n",
              "      <td>mid/senior .net dev - $2800 (+bonus)</td>\n",
              "      <td>net developer</td>\n",
              "      <td>.net</td>\n",
              "    </tr>\n",
              "    <tr>\n",
              "      <th>4</th>\n",
              "      <td>1</td>\n",
              "      <td>mid/senior .net developer -      bonus</td>\n",
              "      <td>.net, sql, english</td>\n",
              "      <td>\\n2 nguyen the loc, ward 12, tan binh, ho chi ...</td>\n",
              "      <td>\\ncompetitive salary and brilliant health bene...</td>\n",
              "      <td>mid/senior .net dev - $2800 (+bonus)</td>\n",
              "      <td>net developer</td>\n",
              "      <td>sql</td>\n",
              "    </tr>\n",
              "  </tbody>\n",
              "</table>\n",
              "</div>\n",
              "      <button class=\"colab-df-convert\" onclick=\"convertToInteractive('df-5888822e-ea3e-4ffa-a037-2d43aed7bfad')\"\n",
              "              title=\"Convert this dataframe to an interactive table.\"\n",
              "              style=\"display:none;\">\n",
              "        \n",
              "  <svg xmlns=\"http://www.w3.org/2000/svg\" height=\"24px\"viewBox=\"0 0 24 24\"\n",
              "       width=\"24px\">\n",
              "    <path d=\"M0 0h24v24H0V0z\" fill=\"none\"/>\n",
              "    <path d=\"M18.56 5.44l.94 2.06.94-2.06 2.06-.94-2.06-.94-.94-2.06-.94 2.06-2.06.94zm-11 1L8.5 8.5l.94-2.06 2.06-.94-2.06-.94L8.5 2.5l-.94 2.06-2.06.94zm10 10l.94 2.06.94-2.06 2.06-.94-2.06-.94-.94-2.06-.94 2.06-2.06.94z\"/><path d=\"M17.41 7.96l-1.37-1.37c-.4-.4-.92-.59-1.43-.59-.52 0-1.04.2-1.43.59L10.3 9.45l-7.72 7.72c-.78.78-.78 2.05 0 2.83L4 21.41c.39.39.9.59 1.41.59.51 0 1.02-.2 1.41-.59l7.78-7.78 2.81-2.81c.8-.78.8-2.07 0-2.86zM5.41 20L4 18.59l7.72-7.72 1.47 1.35L5.41 20z\"/>\n",
              "  </svg>\n",
              "      </button>\n",
              "      \n",
              "  <style>\n",
              "    .colab-df-container {\n",
              "      display:flex;\n",
              "      flex-wrap:wrap;\n",
              "      gap: 12px;\n",
              "    }\n",
              "\n",
              "    .colab-df-convert {\n",
              "      background-color: #E8F0FE;\n",
              "      border: none;\n",
              "      border-radius: 50%;\n",
              "      cursor: pointer;\n",
              "      display: none;\n",
              "      fill: #1967D2;\n",
              "      height: 32px;\n",
              "      padding: 0 0 0 0;\n",
              "      width: 32px;\n",
              "    }\n",
              "\n",
              "    .colab-df-convert:hover {\n",
              "      background-color: #E2EBFA;\n",
              "      box-shadow: 0px 1px 2px rgba(60, 64, 67, 0.3), 0px 1px 3px 1px rgba(60, 64, 67, 0.15);\n",
              "      fill: #174EA6;\n",
              "    }\n",
              "\n",
              "    [theme=dark] .colab-df-convert {\n",
              "      background-color: #3B4455;\n",
              "      fill: #D2E3FC;\n",
              "    }\n",
              "\n",
              "    [theme=dark] .colab-df-convert:hover {\n",
              "      background-color: #434B5C;\n",
              "      box-shadow: 0px 1px 3px 1px rgba(0, 0, 0, 0.15);\n",
              "      filter: drop-shadow(0px 1px 2px rgba(0, 0, 0, 0.3));\n",
              "      fill: #FFFFFF;\n",
              "    }\n",
              "  </style>\n",
              "\n",
              "      <script>\n",
              "        const buttonEl =\n",
              "          document.querySelector('#df-5888822e-ea3e-4ffa-a037-2d43aed7bfad button.colab-df-convert');\n",
              "        buttonEl.style.display =\n",
              "          google.colab.kernel.accessAllowed ? 'block' : 'none';\n",
              "\n",
              "        async function convertToInteractive(key) {\n",
              "          const element = document.querySelector('#df-5888822e-ea3e-4ffa-a037-2d43aed7bfad');\n",
              "          const dataTable =\n",
              "            await google.colab.kernel.invokeFunction('convertToInteractive',\n",
              "                                                     [key], {});\n",
              "          if (!dataTable) return;\n",
              "\n",
              "          const docLinkHtml = 'Like what you see? Visit the ' +\n",
              "            '<a target=\"_blank\" href=https://colab.research.google.com/notebooks/data_table.ipynb>data table notebook</a>'\n",
              "            + ' to learn more about interactive tables.';\n",
              "          element.innerHTML = '';\n",
              "          dataTable['output_type'] = 'display_data';\n",
              "          await google.colab.output.renderOutput(dataTable, element);\n",
              "          const docLink = document.createElement('div');\n",
              "          docLink.innerHTML = docLinkHtml;\n",
              "          element.appendChild(docLink);\n",
              "        }\n",
              "      </script>\n",
              "    </div>\n",
              "  </div>\n",
              "  "
            ]
          },
          "metadata": {},
          "execution_count": 835
        }
      ]
    },
    {
      "cell_type": "code",
      "source": [
        "# xem thông tin data\n",
        "df.info()"
      ],
      "metadata": {
        "colab": {
          "base_uri": "https://localhost:8080/"
        },
        "id": "JhvdRe7kk_mD",
        "outputId": "829553fa-3bf8-4b43-98ba-496b8691cf30"
      },
      "execution_count": null,
      "outputs": [
        {
          "output_type": "stream",
          "name": "stdout",
          "text": [
            "<class 'pandas.core.frame.DataFrame'>\n",
            "Int64Index: 5946 entries, 0 to 5945\n",
            "Data columns (total 8 columns):\n",
            " #   Column              Non-Null Count  Dtype \n",
            "---  ------              --------------  ----- \n",
            " 0   Unnamed: 0          5946 non-null   int64 \n",
            " 1   title               5946 non-null   object\n",
            " 2   skill               5946 non-null   object\n",
            " 3   address             5946 non-null   object\n",
            " 4   skillAndExperience  5946 non-null   object\n",
            " 5   title1              5946 non-null   object\n",
            " 6   types               5946 non-null   object\n",
            " 7   skill_cut           5946 non-null   object\n",
            "dtypes: int64(1), object(7)\n",
            "memory usage: 418.1+ KB\n"
          ]
        }
      ]
    },
    {
      "cell_type": "code",
      "source": [
        "df['skill_cut'].unique()"
      ],
      "metadata": {
        "colab": {
          "base_uri": "https://localhost:8080/"
        },
        "id": "ELdWwfsklCpI",
        "outputId": "e8f01e29-df08-4517-84da-aa09be541eb1"
      },
      "execution_count": null,
      "outputs": [
        {
          "output_type": "execute_result",
          "data": {
            "text/plain": [
              "array(['.net', 'sql', 'asp.net', 'english', 'c#', 'nodejs', 'angular',\n",
              "       'javascript', 'fresher accepted', 'java', 'reactjs', 'html5',\n",
              "       'golang', 'oop', 'mysql', 'oracle', 'c language', 'mvc', 'python',\n",
              "       'php', 'database', 'c++', 'erp', 'react native', 'angularjs',\n",
              "       'flutter', 'android', 'ios', 'swift', 'unity', 'games', 'kotlin',\n",
              "       'json', 'aws', 'agile', 'software architect', 'spring',\n",
              "       'typescript', 'postgresql', 'nosql', 'laravel', 'system engineer',\n",
              "       'django', 'devops', 'ruby', 'scala', 'blockchain', 'j2ee',\n",
              "       'ruby on rails', 'sharepoint', 'wordpress', 'css', 'manager',\n",
              "       'jquery', 'bridge engineer', 'japanese', 'project manager',\n",
              "       'business analyst', 'system admin', 'qa qc', 'tester',\n",
              "       'product manager', 'scrum', 'data analyst', 'ui-ux', 'team leader',\n",
              "       'it support', 'embedded', 'linux', 'vuejs', 'magento',\n",
              "       'networking', 'cloud', 'objective c', 'designer'], dtype=object)"
            ]
          },
          "metadata": {},
          "execution_count": 837
        }
      ]
    },
    {
      "cell_type": "markdown",
      "source": [
        "#### chia cắt và xử lí cột address"
      ],
      "metadata": {
        "id": "D9JRAnailXu_"
      }
    },
    {
      "cell_type": "code",
      "source": [
        "df['address'] = removeCharacter('address', '\\n', df)"
      ],
      "metadata": {
        "id": "VSq4I5Sullp5"
      },
      "execution_count": null,
      "outputs": []
    },
    {
      "cell_type": "code",
      "source": [
        "# hàm chia cắt để lấy thành phố\n",
        "def cutAddressStringCity(string, num):\n",
        "  try:\n",
        "    lstArr = string.split(',')\n",
        "    result = lstArr[len(lstArr)-num]\n",
        "  except:\n",
        "    result = string\n",
        "  return result"
      ],
      "metadata": {
        "id": "a3hCxnmVlUFh"
      },
      "execution_count": null,
      "outputs": []
    },
    {
      "cell_type": "code",
      "source": [
        "# cắt để lấy các thành phố\n",
        "df['City'] = df['address'].apply(lambda st: cutAddressStringCity(st, 1))\n",
        "# Cắt để lấy tên các quận\n",
        "df['District'] = df['address'].apply(lambda st: cutAddressStringCity(st, 2))"
      ],
      "metadata": {
        "id": "Ixh8KTGElZaY"
      },
      "execution_count": null,
      "outputs": []
    },
    {
      "cell_type": "code",
      "source": [
        "# xem các giá trị unique của thành phố\n",
        "df['City'].unique()"
      ],
      "metadata": {
        "colab": {
          "base_uri": "https://localhost:8080/"
        },
        "id": "IAsa9kVKlbpd",
        "outputId": "f7c75bbc-decc-47b7-e0b8-9a402b38845e"
      },
      "execution_count": null,
      "outputs": [
        {
          "output_type": "execute_result",
          "data": {
            "text/plain": [
              "array([' ho chi minhsee map', ' da nangsee map', ' ha noisee map',\n",
              "       ' nha trangsee map', 'work from homesee map', 'remotesee map',\n",
              "       'ho chi minhsee map'], dtype=object)"
            ]
          },
          "metadata": {},
          "execution_count": 841
        }
      ]
    },
    {
      "cell_type": "code",
      "source": [
        "# xóa các từ không cần thiết trong cột City\n",
        "df['City'] = df['City'].str.replace('see map', '')"
      ],
      "metadata": {
        "id": "AODSox7YldMD"
      },
      "execution_count": null,
      "outputs": []
    },
    {
      "cell_type": "code",
      "source": [
        "# xem các giá trị unique của quận\n",
        "df['District'].unique()"
      ],
      "metadata": {
        "colab": {
          "base_uri": "https://localhost:8080/"
        },
        "id": "rc1xKp2AlsGp",
        "outputId": "99a0829a-7628-4be8-ec72-04331e3b101a"
      },
      "execution_count": null,
      "outputs": [
        {
          "output_type": "execute_result",
          "data": {
            "text/plain": [
              "array([' binh thanh', ' tan binh', ' hai chau', ' ba dinh', ' cau giay',\n",
              "       ' hoang mai', ' dong da', ' district 7', ' district 4',\n",
              "       ' district 3', ' district 1', ' hai ba trung', ' district 11',\n",
              "       ' hoan kiem', ' phu nhuan', ' phuoc hai ward', ' district 5',\n",
              "       ' other', ' district 10', ' thu duc city', ' tay ho',\n",
              "       ' district 12', ' go vap', ' thanh xuan', ' district 9',\n",
              "       ' ha dong', ' son tra', ' district 2', ' nam tu liem',\n",
              "       ' bac tu liem', ' district 8', ' thu duc', 'district 1',\n",
              "       ' tan phu', ' thanh khe', 'work from homesee map', ' cam le',\n",
              "       'remotesee map', ' district 6', ' long bien', 'ho chi minhsee map',\n",
              "       '.', 'remote', 'ha noi', ' lien chieu'], dtype=object)"
            ]
          },
          "metadata": {},
          "execution_count": 843
        }
      ]
    },
    {
      "cell_type": "code",
      "source": [
        "# Xóa các từ không cần thiết trong cột District\n",
        "df['District'] = df['District'].str.replace('see map', '')"
      ],
      "metadata": {
        "id": "QQ-FkIohlwlG"
      },
      "execution_count": null,
      "outputs": []
    },
    {
      "cell_type": "markdown",
      "source": [
        "#### chọn các level trong từng giá trị từ title "
      ],
      "metadata": {
        "id": "RvHVUb2cl3Ee"
      }
    },
    {
      "cell_type": "code",
      "source": [
        "lstStringLevel = ['fres', 'jun', 'sr', 'rem', 'mid', 'sen', 'all lev']"
      ],
      "metadata": {
        "id": "AuncNC72ly6T"
      },
      "execution_count": null,
      "outputs": []
    },
    {
      "cell_type": "code",
      "source": [
        "def replaceStringTitleLevel(string):\n",
        "    result = 'not experience'\n",
        "    string = string.lower()\n",
        "    for i in lstStringLevel:\n",
        "        x = i+'\\S+'\n",
        "        sts = re.findall(x, string)\n",
        "        if len(sts) >=1:\n",
        "          result = sts[0]   \n",
        "    return result"
      ],
      "metadata": {
        "id": "fUJ8znQOl9R4"
      },
      "execution_count": null,
      "outputs": []
    },
    {
      "cell_type": "code",
      "source": [
        "df['experience'] = df['title'].apply(lambda st: replaceStringTitleLevel(st))"
      ],
      "metadata": {
        "id": "QAiZOHALl9ox"
      },
      "execution_count": null,
      "outputs": []
    },
    {
      "cell_type": "code",
      "source": [
        "df['experience'].value_counts()"
      ],
      "metadata": {
        "colab": {
          "base_uri": "https://localhost:8080/"
        },
        "id": "gSQ7rsiLl_LC",
        "outputId": "0f31fee5-aad9-43b9-94b2-7b17aebee78b"
      },
      "execution_count": null,
      "outputs": [
        {
          "output_type": "execute_result",
          "data": {
            "text/plain": [
              "not experience       4372\n",
              "senior                941\n",
              "junior                116\n",
              "sr.                    70\n",
              "all level              47\n",
              "mid/sr                 45\n",
              "middle                 44\n",
              "remote                 35\n",
              "all levels             25\n",
              "all levels]            21\n",
              "mid/sr.                21\n",
              "all level-backend      20\n",
              "remote]                19\n",
              "all level]             16\n",
              "fresh                  16\n",
              "mid/                   15\n",
              "senior/                14\n",
              "senior/mid             12\n",
              "sr/team                12\n",
              "fresher                11\n",
              "remote/                 9\n",
              "remote-fullstack        9\n",
              "senior/middle           9\n",
              "senior]                 9\n",
              "junior]                 8\n",
              "sr/principal            6\n",
              "sr/mid                  6\n",
              "all level-              4\n",
              "fresher/jr              4\n",
              "fresher]                4\n",
              "senior/lead             4\n",
              "remote/hybrid           2\n",
              "Name: experience, dtype: int64"
            ]
          },
          "metadata": {},
          "execution_count": 848
        }
      ]
    },
    {
      "cell_type": "code",
      "source": [
        "df['experience'] = df['experience'].str.replace(']', '')\n",
        "df['experience'] = df['experience'].str.replace(')', '')\n",
        "df['experience'] = df['experience'].str.replace(',', '')\n",
        "df['experience'] = df['experience'].str.replace('.', '')\n",
        "df['experience'] = df['experience'].str.replace('/$', '')\n",
        "df['experience'] = df['experience'].str.replace('sr', 'senior')\n",
        "df['experience'] = df['experience'].str.replace('levels', 'level')\n",
        "df['experience'] = df['experience'].str.replace('fresh$', 'fresher')\n",
        "df['experience'] = df['experience'].str.replace('mid$', 'middle')\n",
        "df['experience'] = df['experience'].str.replace('mid/', 'middle/')\n",
        "df['experience'] = df['experience'].str.replace('jr', 'junior')\n",
        "df['experience'] = df['experience'].str.replace('lead$', 'leader')\n",
        "df['experience'] = df['experience'].str.replace('-backend', '')\n",
        "df['experience'] = df['experience'].str.replace('-3', '') \n",
        "df['experience'] = df['experience'].str.replace('-', '/') "
      ],
      "metadata": {
        "colab": {
          "base_uri": "https://localhost:8080/"
        },
        "id": "qwS8ShZemKDG",
        "outputId": "9147d7d7-acfd-4ac3-956b-4f56f418ed89"
      },
      "execution_count": null,
      "outputs": [
        {
          "output_type": "stream",
          "name": "stderr",
          "text": [
            "/usr/local/lib/python3.7/dist-packages/ipykernel_launcher.py:1: FutureWarning: The default value of regex will change from True to False in a future version. In addition, single character regular expressions will *not* be treated as literal strings when regex=True.\n",
            "  \"\"\"Entry point for launching an IPython kernel.\n",
            "/usr/local/lib/python3.7/dist-packages/ipykernel_launcher.py:2: FutureWarning: The default value of regex will change from True to False in a future version. In addition, single character regular expressions will *not* be treated as literal strings when regex=True.\n",
            "  \n",
            "/usr/local/lib/python3.7/dist-packages/ipykernel_launcher.py:4: FutureWarning: The default value of regex will change from True to False in a future version. In addition, single character regular expressions will *not* be treated as literal strings when regex=True.\n",
            "  after removing the cwd from sys.path.\n",
            "/usr/local/lib/python3.7/dist-packages/ipykernel_launcher.py:5: FutureWarning: The default value of regex will change from True to False in a future version.\n",
            "  \"\"\"\n",
            "/usr/local/lib/python3.7/dist-packages/ipykernel_launcher.py:8: FutureWarning: The default value of regex will change from True to False in a future version.\n",
            "  \n",
            "/usr/local/lib/python3.7/dist-packages/ipykernel_launcher.py:9: FutureWarning: The default value of regex will change from True to False in a future version.\n",
            "  if __name__ == '__main__':\n",
            "/usr/local/lib/python3.7/dist-packages/ipykernel_launcher.py:12: FutureWarning: The default value of regex will change from True to False in a future version.\n",
            "  if sys.path[0] == '':\n"
          ]
        }
      ]
    },
    {
      "cell_type": "code",
      "source": [
        "df['experience'].value_counts()"
      ],
      "metadata": {
        "colab": {
          "base_uri": "https://localhost:8080/"
        },
        "id": "vFl4DnMdmL-W",
        "outputId": "5a7dbd48-ca45-408b-ac7b-91eb0485dda9"
      },
      "execution_count": null,
      "outputs": [
        {
          "output_type": "execute_result",
          "data": {
            "text/plain": [
              "not experience      4372\n",
              "senior              1034\n",
              "all level            129\n",
              "junior               124\n",
              "middle/senior         66\n",
              "remote                63\n",
              "middle                59\n",
              "fresher               31\n",
              "senior/middle         27\n",
              "senior/team           12\n",
              "remote/fullstack       9\n",
              "senior/principal       6\n",
              "fresher/junior         4\n",
              "all level/             4\n",
              "senior/leader          4\n",
              "remote/hybrid          2\n",
              "Name: experience, dtype: int64"
            ]
          },
          "metadata": {},
          "execution_count": 850
        }
      ]
    },
    {
      "cell_type": "code",
      "source": [
        "df['experience'] = df['experience'].str.replace('/$', '')"
      ],
      "metadata": {
        "colab": {
          "base_uri": "https://localhost:8080/"
        },
        "id": "dZ_nlGYlnE5C",
        "outputId": "9b1de667-59a0-41e7-e79d-769bcac7d258"
      },
      "execution_count": null,
      "outputs": [
        {
          "output_type": "stream",
          "name": "stderr",
          "text": [
            "/usr/local/lib/python3.7/dist-packages/ipykernel_launcher.py:1: FutureWarning: The default value of regex will change from True to False in a future version.\n",
            "  \"\"\"Entry point for launching an IPython kernel.\n"
          ]
        }
      ]
    },
    {
      "cell_type": "code",
      "source": [
        "dfExperience = df[['Unnamed: 0', 'experience']].loc[df[['Unnamed: 0', 'experience']].duplicated() == True, :]"
      ],
      "metadata": {
        "id": "ExAHxPZ_mOPm"
      },
      "execution_count": null,
      "outputs": []
    },
    {
      "cell_type": "code",
      "source": [
        "dfExperience.info()"
      ],
      "metadata": {
        "colab": {
          "base_uri": "https://localhost:8080/"
        },
        "id": "ELxcCxSzmvKH",
        "outputId": "deb27c86-97ba-40b1-f132-9762bc7e64a3"
      },
      "execution_count": null,
      "outputs": [
        {
          "output_type": "stream",
          "name": "stdout",
          "text": [
            "<class 'pandas.core.frame.DataFrame'>\n",
            "Int64Index: 3975 entries, 1 to 5945\n",
            "Data columns (total 2 columns):\n",
            " #   Column      Non-Null Count  Dtype \n",
            "---  ------      --------------  ----- \n",
            " 0   Unnamed: 0  3975 non-null   int64 \n",
            " 1   experience  3975 non-null   object\n",
            "dtypes: int64(1), object(1)\n",
            "memory usage: 93.2+ KB\n"
          ]
        }
      ]
    },
    {
      "cell_type": "code",
      "source": [
        "# phân chuỗi trong cột skill ra list rồi thực chia theo cột unnamed: 0\n",
        "experience = pd.DataFrame(dfExperience.set_index('Unnamed: 0').experience.str.split('/', expand=True).stack().reset_index(level=1, drop=True)).reset_index()"
      ],
      "metadata": {
        "id": "V98BzOaamwUH"
      },
      "execution_count": null,
      "outputs": []
    },
    {
      "cell_type": "code",
      "source": [
        "experience.info()"
      ],
      "metadata": {
        "colab": {
          "base_uri": "https://localhost:8080/"
        },
        "id": "Na1KsZ__myTu",
        "outputId": "dbbd0e00-ad32-49ae-b567-247f7f35a787"
      },
      "execution_count": null,
      "outputs": [
        {
          "output_type": "stream",
          "name": "stdout",
          "text": [
            "<class 'pandas.core.frame.DataFrame'>\n",
            "RangeIndex: 4061 entries, 0 to 4060\n",
            "Data columns (total 2 columns):\n",
            " #   Column      Non-Null Count  Dtype \n",
            "---  ------      --------------  ----- \n",
            " 0   Unnamed: 0  4061 non-null   int64 \n",
            " 1   0           4061 non-null   object\n",
            "dtypes: int64(1), object(1)\n",
            "memory usage: 63.6+ KB\n"
          ]
        }
      ]
    },
    {
      "cell_type": "code",
      "source": [
        "# đổi tên cột 0 trong dataFrame skill thành 'experienceSub'\n",
        "experience.rename(columns = {0:'experienceSub'}, inplace = True)"
      ],
      "metadata": {
        "id": "YS-JVOwWmzjz"
      },
      "execution_count": null,
      "outputs": []
    },
    {
      "cell_type": "code",
      "source": [
        "# gộp dataFrame df và skill vói nhay theo \"Unnameed: 0\"\n",
        "df = df.merge(experience, left_on = 'Unnamed: 0', right_on = 'Unnamed: 0')"
      ],
      "metadata": {
        "id": "dACKkKZum1bF"
      },
      "execution_count": null,
      "outputs": []
    },
    {
      "cell_type": "code",
      "source": [
        "df.info()"
      ],
      "metadata": {
        "colab": {
          "base_uri": "https://localhost:8080/"
        },
        "id": "BTsA8Av4m2u6",
        "outputId": "12a1c133-355e-4378-b7c0-f21a73b637e9"
      },
      "execution_count": null,
      "outputs": [
        {
          "output_type": "stream",
          "name": "stdout",
          "text": [
            "<class 'pandas.core.frame.DataFrame'>\n",
            "Int64Index: 12612 entries, 0 to 12611\n",
            "Data columns (total 12 columns):\n",
            " #   Column              Non-Null Count  Dtype \n",
            "---  ------              --------------  ----- \n",
            " 0   Unnamed: 0          12612 non-null  int64 \n",
            " 1   title               12612 non-null  object\n",
            " 2   skill               12612 non-null  object\n",
            " 3   address             12612 non-null  object\n",
            " 4   skillAndExperience  12612 non-null  object\n",
            " 5   title1              12612 non-null  object\n",
            " 6   types               12612 non-null  object\n",
            " 7   skill_cut           12612 non-null  object\n",
            " 8   City                12612 non-null  object\n",
            " 9   District            12612 non-null  object\n",
            " 10  experience          12612 non-null  object\n",
            " 11  experienceSub       12612 non-null  object\n",
            "dtypes: int64(1), object(11)\n",
            "memory usage: 1.3+ MB\n"
          ]
        }
      ]
    },
    {
      "cell_type": "code",
      "source": [
        "df['experienceSub'].value_counts()"
      ],
      "metadata": {
        "colab": {
          "base_uri": "https://localhost:8080/"
        },
        "id": "hbQYUWa8m3-o",
        "outputId": "3cc38c4c-0ce8-4d38-9b36-64558ccdca7a"
      },
      "execution_count": null,
      "outputs": [
        {
          "output_type": "execute_result",
          "data": {
            "text/plain": [
              "not experience    9070\n",
              "senior            2256\n",
              "junior             342\n",
              "all level          330\n",
              "middle             312\n",
              "remote             140\n",
              "fresher            102\n",
              "team                24\n",
              "fullstack           18\n",
              "principal           12\n",
              "leader               4\n",
              "hybrid               2\n",
              "Name: experienceSub, dtype: int64"
            ]
          },
          "metadata": {},
          "execution_count": 859
        }
      ]
    },
    {
      "cell_type": "markdown",
      "source": [
        "# lấy data có giá trị"
      ],
      "metadata": {
        "id": "m4jPt5wVnSzL"
      }
    },
    {
      "cell_type": "code",
      "source": [
        "df.info()"
      ],
      "metadata": {
        "colab": {
          "base_uri": "https://localhost:8080/"
        },
        "id": "NtbHfYdkm6Wy",
        "outputId": "7733edfa-767e-4fa4-8559-b1a3e5fd38bd"
      },
      "execution_count": null,
      "outputs": [
        {
          "output_type": "stream",
          "name": "stdout",
          "text": [
            "<class 'pandas.core.frame.DataFrame'>\n",
            "Int64Index: 12612 entries, 0 to 12611\n",
            "Data columns (total 12 columns):\n",
            " #   Column              Non-Null Count  Dtype \n",
            "---  ------              --------------  ----- \n",
            " 0   Unnamed: 0          12612 non-null  int64 \n",
            " 1   title               12612 non-null  object\n",
            " 2   skill               12612 non-null  object\n",
            " 3   address             12612 non-null  object\n",
            " 4   skillAndExperience  12612 non-null  object\n",
            " 5   title1              12612 non-null  object\n",
            " 6   types               12612 non-null  object\n",
            " 7   skill_cut           12612 non-null  object\n",
            " 8   City                12612 non-null  object\n",
            " 9   District            12612 non-null  object\n",
            " 10  experience          12612 non-null  object\n",
            " 11  experienceSub       12612 non-null  object\n",
            "dtypes: int64(1), object(11)\n",
            "memory usage: 1.3+ MB\n"
          ]
        }
      ]
    },
    {
      "cell_type": "code",
      "source": [
        "data = df[['types', 'skill_cut', 'City', 'District', 'experienceSub']]"
      ],
      "metadata": {
        "id": "OtbLaUaznVxa"
      },
      "execution_count": null,
      "outputs": []
    },
    {
      "cell_type": "markdown",
      "source": [
        "# Thực hiện trực quan hóa dữ liệu."
      ],
      "metadata": {
        "id": "68fiuPa1naP_"
      }
    },
    {
      "cell_type": "code",
      "source": [
        "data['City'] =  data['City'].str.strip()\n",
        "data['types'] =  data['types'].str.strip()\n",
        "data['skill_cut'] =  data['skill_cut'].str.strip()\n",
        "data['District'] =  data['District'].str.strip()\n",
        "data['experienceSub'] =  data['experienceSub'].str.strip()"
      ],
      "metadata": {
        "colab": {
          "base_uri": "https://localhost:8080/"
        },
        "id": "f_3WxgN9nhw-",
        "outputId": "6da30c8e-aa26-4c32-d9f3-0c337d21f717"
      },
      "execution_count": null,
      "outputs": [
        {
          "output_type": "stream",
          "name": "stderr",
          "text": [
            "/usr/local/lib/python3.7/dist-packages/ipykernel_launcher.py:1: SettingWithCopyWarning: \n",
            "A value is trying to be set on a copy of a slice from a DataFrame.\n",
            "Try using .loc[row_indexer,col_indexer] = value instead\n",
            "\n",
            "See the caveats in the documentation: https://pandas.pydata.org/pandas-docs/stable/user_guide/indexing.html#returning-a-view-versus-a-copy\n",
            "  \"\"\"Entry point for launching an IPython kernel.\n",
            "/usr/local/lib/python3.7/dist-packages/ipykernel_launcher.py:2: SettingWithCopyWarning: \n",
            "A value is trying to be set on a copy of a slice from a DataFrame.\n",
            "Try using .loc[row_indexer,col_indexer] = value instead\n",
            "\n",
            "See the caveats in the documentation: https://pandas.pydata.org/pandas-docs/stable/user_guide/indexing.html#returning-a-view-versus-a-copy\n",
            "  \n",
            "/usr/local/lib/python3.7/dist-packages/ipykernel_launcher.py:3: SettingWithCopyWarning: \n",
            "A value is trying to be set on a copy of a slice from a DataFrame.\n",
            "Try using .loc[row_indexer,col_indexer] = value instead\n",
            "\n",
            "See the caveats in the documentation: https://pandas.pydata.org/pandas-docs/stable/user_guide/indexing.html#returning-a-view-versus-a-copy\n",
            "  This is separate from the ipykernel package so we can avoid doing imports until\n",
            "/usr/local/lib/python3.7/dist-packages/ipykernel_launcher.py:4: SettingWithCopyWarning: \n",
            "A value is trying to be set on a copy of a slice from a DataFrame.\n",
            "Try using .loc[row_indexer,col_indexer] = value instead\n",
            "\n",
            "See the caveats in the documentation: https://pandas.pydata.org/pandas-docs/stable/user_guide/indexing.html#returning-a-view-versus-a-copy\n",
            "  after removing the cwd from sys.path.\n",
            "/usr/local/lib/python3.7/dist-packages/ipykernel_launcher.py:5: SettingWithCopyWarning: \n",
            "A value is trying to be set on a copy of a slice from a DataFrame.\n",
            "Try using .loc[row_indexer,col_indexer] = value instead\n",
            "\n",
            "See the caveats in the documentation: https://pandas.pydata.org/pandas-docs/stable/user_guide/indexing.html#returning-a-view-versus-a-copy\n",
            "  \"\"\"\n"
          ]
        }
      ]
    },
    {
      "cell_type": "code",
      "source": [
        "data['City'].value_counts()"
      ],
      "metadata": {
        "colab": {
          "base_uri": "https://localhost:8080/"
        },
        "id": "OiAzo3twnYr9",
        "outputId": "1da07243-5429-4236-d4d7-aa5a5f6e3a12"
      },
      "execution_count": null,
      "outputs": [
        {
          "output_type": "execute_result",
          "data": {
            "text/plain": [
              "ho chi minh       8082\n",
              "ha noi            4118\n",
              "da nang            320\n",
              "nha trang           42\n",
              "work from home      30\n",
              "remote              20\n",
              "Name: City, dtype: int64"
            ]
          },
          "metadata": {},
          "execution_count": 863
        }
      ]
    },
    {
      "cell_type": "code",
      "source": [
        "my_colors = ['#6495ED','#999999', '#999999', '#999999', '#999999', '#999999']\n",
        "\n",
        "fig = plt.figure(figsize = (20,10))\n",
        "plt.bar(data['City'].value_counts().index, data['City'].value_counts().values, color=my_colors)\n",
        "plt.title('số lượng công việc ở các thành phố trên phần mềm topDev')\n",
        "plt.ylabel('Số lượng')\n",
        "plt.xlabel('Tên thành phố')\n",
        "plt.show()"
      ],
      "metadata": {
        "colab": {
          "base_uri": "https://localhost:8080/",
          "height": 629
        },
        "id": "Bi5QOdmYncxK",
        "outputId": "af57d8bb-1de9-4277-a4c1-db1d7034f466"
      },
      "execution_count": null,
      "outputs": [
        {
          "output_type": "display_data",
          "data": {
            "text/plain": [
              "<Figure size 1440x720 with 1 Axes>"
            ],
            "image/png": "[encoded data removed]"
          },
          "metadata": {}
        }
      ]
    },
    {
      "cell_type": "markdown",
      "source": [
        "#### trực quan hóa dữ liệu District"
      ],
      "metadata": {
        "id": "ie1fooUZno5_"
      }
    },
    {
      "cell_type": "code",
      "source": [
        "data['District'].unique()"
      ],
      "metadata": {
        "colab": {
          "base_uri": "https://localhost:8080/"
        },
        "id": "J1u3QbVanl1z",
        "outputId": "f37a1077-130d-46e6-e7f4-6963d14a1afa"
      },
      "execution_count": null,
      "outputs": [
        {
          "output_type": "execute_result",
          "data": {
            "text/plain": [
              "array(['binh thanh', 'tan binh', 'hai chau', 'ba dinh', 'cau giay',\n",
              "       'hoang mai', 'dong da', 'district 7', 'district 4', 'district 3',\n",
              "       'district 1', 'hai ba trung', 'district 11', 'hoan kiem',\n",
              "       'phu nhuan', 'phuoc hai ward', 'district 5', 'other',\n",
              "       'district 10', 'thu duc city', 'tay ho', 'district 12', 'go vap',\n",
              "       'thanh xuan', 'district 9', 'ha dong', 'son tra', 'district 2',\n",
              "       'nam tu liem', 'bac tu liem', 'district 8', 'thu duc', 'tan phu',\n",
              "       'thanh khe', 'work from home', 'cam le', 'remote', 'district 6',\n",
              "       'long bien', 'ho chi minh', '.', 'ha noi', 'lien chieu'],\n",
              "      dtype=object)"
            ]
          },
          "metadata": {},
          "execution_count": 865
        }
      ]
    },
    {
      "cell_type": "code",
      "source": [
        "data.drop(index = data.loc[(data['District'] == 'ho chi minh') | (data['District'] == 'ha noi') | (data['District'] == '.'), :].index, inplace = True)"
      ],
      "metadata": {
        "colab": {
          "base_uri": "https://localhost:8080/"
        },
        "id": "wfx1bCz_nqky",
        "outputId": "200169c3-2d97-43ba-dc69-e189d1e10738"
      },
      "execution_count": null,
      "outputs": [
        {
          "output_type": "stream",
          "name": "stderr",
          "text": [
            "/usr/local/lib/python3.7/dist-packages/pandas/core/frame.py:4913: SettingWithCopyWarning: \n",
            "A value is trying to be set on a copy of a slice from a DataFrame\n",
            "\n",
            "See the caveats in the documentation: https://pandas.pydata.org/pandas-docs/stable/user_guide/indexing.html#returning-a-view-versus-a-copy\n",
            "  errors=errors,\n"
          ]
        }
      ]
    },
    {
      "cell_type": "code",
      "source": [
        "data['District'] = data['District'].str.replace('Thu Duc city', 'Thu Duc')"
      ],
      "metadata": {
        "colab": {
          "base_uri": "https://localhost:8080/"
        },
        "id": "5IU4ASkinsr0",
        "outputId": "b55af63b-bc7d-4702-bf91-82dfc4052f3a"
      },
      "execution_count": null,
      "outputs": [
        {
          "output_type": "stream",
          "name": "stderr",
          "text": [
            "/usr/local/lib/python3.7/dist-packages/ipykernel_launcher.py:1: SettingWithCopyWarning: \n",
            "A value is trying to be set on a copy of a slice from a DataFrame.\n",
            "Try using .loc[row_indexer,col_indexer] = value instead\n",
            "\n",
            "See the caveats in the documentation: https://pandas.pydata.org/pandas-docs/stable/user_guide/indexing.html#returning-a-view-versus-a-copy\n",
            "  \"\"\"Entry point for launching an IPython kernel.\n"
          ]
        }
      ]
    },
    {
      "cell_type": "code",
      "source": [
        "ITHCM = data.loc[data['City'] == 'ho chi minh', :]"
      ],
      "metadata": {
        "id": "iVhG24KBnuv4"
      },
      "execution_count": null,
      "outputs": []
    },
    {
      "cell_type": "code",
      "source": [
        "fig = plt.figure(figsize = (20,10))\n",
        "plt.bar(ITHCM['District'].value_counts().index, ITHCM['District'].value_counts().values)\n",
        "plt.xticks(rotation=90)\n",
        "plt.title('số lượng công việc ở các quận trên thành phố HCM trên phần mềm topDev')\n",
        "plt.ylabel('Số lượng')\n",
        "plt.xlabel('tên quận')\n",
        "plt.show()"
      ],
      "metadata": {
        "colab": {
          "base_uri": "https://localhost:8080/",
          "height": 683
        },
        "id": "xsq6Nsy0nxNP",
        "outputId": "a9da2cac-0830-4e8b-dc45-28e10b99863b"
      },
      "execution_count": null,
      "outputs": [
        {
          "output_type": "display_data",
          "data": {
            "text/plain": [
              "<Figure size 1440x720 with 1 Axes>"
            ],
            "image/png": "[encoded data removed]"
          },
          "metadata": {}
        }
      ]
    },
    {
      "cell_type": "markdown",
      "source": [
        "#### trực quan hóa kinh nghiệm trong experience"
      ],
      "metadata": {
        "id": "EoRnDWvHn1tc"
      }
    },
    {
      "cell_type": "code",
      "source": [
        "data['experienceSub'].value_counts()"
      ],
      "metadata": {
        "colab": {
          "base_uri": "https://localhost:8080/"
        },
        "id": "CvOcMXPunyh7",
        "outputId": "078b360c-5ca2-4612-9541-cb24de679c15"
      },
      "execution_count": null,
      "outputs": [
        {
          "output_type": "execute_result",
          "data": {
            "text/plain": [
              "not experience    9058\n",
              "senior            2250\n",
              "junior             342\n",
              "all level          330\n",
              "middle             312\n",
              "remote             140\n",
              "fresher             54\n",
              "team                24\n",
              "fullstack           18\n",
              "principal           12\n",
              "leader               4\n",
              "hybrid               2\n",
              "Name: experienceSub, dtype: int64"
            ]
          },
          "metadata": {},
          "execution_count": 870
        }
      ]
    },
    {
      "cell_type": "code",
      "source": [
        "data.drop(index = data.loc[data['experienceSub'] == 'hybrid', :].index, inplace = True)"
      ],
      "metadata": {
        "id": "Ez_LUbMzn3Yt"
      },
      "execution_count": null,
      "outputs": []
    },
    {
      "cell_type": "code",
      "source": [
        "fig = plt.figure(figsize = (20,10))\n",
        "plt.bar(data['experienceSub'].value_counts().index, data['experienceSub'].value_counts().values)\n",
        "plt.title('các level trong ngành IT')\n",
        "plt.xlabel('số lượng')\n",
        "plt.ylabel('tên level')\n",
        "plt.show()"
      ],
      "metadata": {
        "colab": {
          "base_uri": "https://localhost:8080/",
          "height": 628
        },
        "id": "5Py1fqJgn5O2",
        "outputId": "b4193608-e1f7-444a-e651-b219969d363b"
      },
      "execution_count": null,
      "outputs": [
        {
          "output_type": "display_data",
          "data": {
            "text/plain": [
              "<Figure size 1440x720 with 1 Axes>"
            ],
            "image/png": "[encoded data removed]"
          },
          "metadata": {}
        }
      ]
    },
    {
      "cell_type": "markdown",
      "source": [
        "#### Trực quan hóa các kĩ năng"
      ],
      "metadata": {
        "id": "nRuf3Gfzn9bK"
      }
    },
    {
      "cell_type": "code",
      "source": [
        "ITHCM['skill_cut'].value_counts()"
      ],
      "metadata": {
        "colab": {
          "base_uri": "https://localhost:8080/"
        },
        "id": "Pb7s3hLWn7T5",
        "outputId": "3a3f60f6-cee8-4eb7-e562-086054ab175b"
      },
      "execution_count": null,
      "outputs": [
        {
          "output_type": "execute_result",
          "data": {
            "text/plain": [
              "java                718\n",
              "javascript          448\n",
              "reactjs             430\n",
              "nodejs              378\n",
              "fresher accepted    330\n",
              "                   ... \n",
              "objective c          10\n",
              "sharepoint            8\n",
              "json                  8\n",
              "bridge engineer       8\n",
              "jquery                4\n",
              "Name: skill_cut, Length: 75, dtype: int64"
            ]
          },
          "metadata": {},
          "execution_count": 873
        }
      ]
    },
    {
      "cell_type": "code",
      "source": [
        "fig = plt.figure(figsize = (20,10))\n",
        "plt.bar(ITHCM['skill_cut'].value_counts().index[60:], ITHCM['skill_cut'].value_counts().values[60:])\n",
        "plt.title('Các kĩ năng được sử dụng trong HCM')\n",
        "plt.ylabel('tên kĩ năng')\n",
        "plt.xlabel('số lượng')\n",
        "plt.show()"
      ],
      "metadata": {
        "colab": {
          "base_uri": "https://localhost:8080/",
          "height": 628
        },
        "id": "tykw2OyLn_lV",
        "outputId": "825d84e5-0299-46f4-a1ed-0b72eafc0a24"
      },
      "execution_count": null,
      "outputs": [
        {
          "output_type": "display_data",
          "data": {
            "text/plain": [
              "<Figure size 1440x720 with 1 Axes>"
            ],
            "image/png": "[encoded data removed]"
          },
          "metadata": {}
        }
      ]
    },
    {
      "cell_type": "code",
      "source": [],
      "metadata": {
        "id": "1zAM4bVKpjvw"
      },
      "execution_count": null,
      "outputs": []
    },
    {
      "cell_type": "code",
      "source": [
        "fig = plt.figure(figsize = (20,10))\n",
        "plt.bar(ITHCM['types'].value_counts().index, ITHCM['types'].value_counts().values)\n",
        "plt.title('Các job trong HCM')\n",
        "plt.ylabel('tên job')\n",
        "plt.xlabel('số lượng')\n",
        "plt.xticks(rotation=90)\n",
        "plt.show()"
      ],
      "metadata": {
        "colab": {
          "base_uri": "https://localhost:8080/",
          "height": 747
        },
        "id": "JsH7q0DepSEd",
        "outputId": "47d4206b-76c0-433a-eab3-3365a7356ff1"
      },
      "execution_count": null,
      "outputs": [
        {
          "output_type": "display_data",
          "data": {
            "text/plain": [
              "<Figure size 1440x720 with 1 Axes>"
            ],
            "image/png": "[encoded data removed]"
          },
          "metadata": {}
        }
      ]
    },
    {
      "cell_type": "markdown",
      "source": [
        "# Thực hiện One-hot encoding"
      ],
      "metadata": {
        "id": "OhxYy3g9oyHi"
      }
    },
    {
      "cell_type": "code",
      "source": [
        "dataTrain = data.copy()"
      ],
      "metadata": {
        "id": "ZLsyX6qcoBlw"
      },
      "execution_count": null,
      "outputs": []
    },
    {
      "cell_type": "code",
      "source": [
        "dataTrain.info()"
      ],
      "metadata": {
        "colab": {
          "base_uri": "https://localhost:8080/"
        },
        "id": "W6gyW6Keo12_",
        "outputId": "7c16e106-54b9-45b4-b30f-a69432a17860"
      },
      "execution_count": null,
      "outputs": [
        {
          "output_type": "stream",
          "name": "stdout",
          "text": [
            "<class 'pandas.core.frame.DataFrame'>\n",
            "Int64Index: 12544 entries, 0 to 12611\n",
            "Data columns (total 5 columns):\n",
            " #   Column         Non-Null Count  Dtype \n",
            "---  ------         --------------  ----- \n",
            " 0   types          12544 non-null  object\n",
            " 1   skill_cut      12544 non-null  object\n",
            " 2   City           12544 non-null  object\n",
            " 3   District       12544 non-null  object\n",
            " 4   experienceSub  12544 non-null  object\n",
            "dtypes: object(5)\n",
            "memory usage: 588.0+ KB\n"
          ]
        }
      ]
    },
    {
      "cell_type": "code",
      "source": [
        "dataTrain[\"types\"] = dataTrain[\"types\"].astype('category')\n",
        "dataTrain[\"skill_cut\"] = dataTrain[\"skill_cut\"].astype('category')\n",
        "dataTrain[\"City\"] = dataTrain[\"City\"].astype('category')\n",
        "dataTrain[\"District\"] = dataTrain[\"District\"].astype('category')\n",
        "dataTrain[\"experienceSub\"] = dataTrain[\"experienceSub\"].astype('category')"
      ],
      "metadata": {
        "id": "vEQoysKwo3b6"
      },
      "execution_count": null,
      "outputs": []
    },
    {
      "cell_type": "code",
      "source": [
        "dataTrain[\"types_codes\"] = dataTrain[\"types\"].cat.codes\n",
        "dataTrain[\"skill_cut_codes\"] = dataTrain[\"skill_cut\"].cat.codes\n",
        "dataTrain[\"City_codes\"] = dataTrain[\"City\"].cat.codes\n",
        "dataTrain[\"District_codes\"] = dataTrain[\"District\"].cat.codes\n",
        "dataTrain[\"experienceSub_codes\"] = dataTrain[\"experienceSub\"].cat.codes"
      ],
      "metadata": {
        "id": "dcrOkV2_o5t1"
      },
      "execution_count": null,
      "outputs": []
    },
    {
      "cell_type": "code",
      "source": [
        "# xem các giá trị đã chuyển sang dạng code\n",
        "def CodeData(name1, name2, dataTrain):\n",
        "  return  dataTrain[[name1, name2]].loc[dataTrain[[name1, name2]].duplicated() == False, :]"
      ],
      "metadata": {
        "id": "3IYfkvito8yc"
      },
      "execution_count": null,
      "outputs": []
    },
    {
      "cell_type": "code",
      "source": [
        "CodeData('types', 'types_codes', dataTrain).head(5)"
      ],
      "metadata": {
        "colab": {
          "base_uri": "https://localhost:8080/",
          "height": 206
        },
        "id": "qlUlMQh7pD4_",
        "outputId": "e20561e2-85b9-4710-c6c3-d11edf17ae38"
      },
      "execution_count": null,
      "outputs": [
        {
          "output_type": "execute_result",
          "data": {
            "text/plain": [
              "            types  types_codes\n",
              "0   net developer           23\n",
              "12        backend            2\n",
              "24      developer            9\n",
              "36           java           18\n",
              "48  web developer           34"
            ],
            "text/html": [
              "\n",
              "  <div id=\"df-b2d877ee-8234-4e6f-83dd-9e33cbeecbb2\">\n",
              "    <div class=\"colab-df-container\">\n",
              "      <div>\n",
              "<style scoped>\n",
              "    .dataframe tbody tr th:only-of-type {\n",
              "        vertical-align: middle;\n",
              "    }\n",
              "\n",
              "    .dataframe tbody tr th {\n",
              "        vertical-align: top;\n",
              "    }\n",
              "\n",
              "    .dataframe thead th {\n",
              "        text-align: right;\n",
              "    }\n",
              "</style>\n",
              "<table border=\"1\" class=\"dataframe\">\n",
              "  <thead>\n",
              "    <tr style=\"text-align: right;\">\n",
              "      <th></th>\n",
              "      <th>types</th>\n",
              "      <th>types_codes</th>\n",
              "    </tr>\n",
              "  </thead>\n",
              "  <tbody>\n",
              "    <tr>\n",
              "      <th>0</th>\n",
              "      <td>net developer</td>\n",
              "      <td>23</td>\n",
              "    </tr>\n",
              "    <tr>\n",
              "      <th>12</th>\n",
              "      <td>backend</td>\n",
              "      <td>2</td>\n",
              "    </tr>\n",
              "    <tr>\n",
              "      <th>24</th>\n",
              "      <td>developer</td>\n",
              "      <td>9</td>\n",
              "    </tr>\n",
              "    <tr>\n",
              "      <th>36</th>\n",
              "      <td>java</td>\n",
              "      <td>18</td>\n",
              "    </tr>\n",
              "    <tr>\n",
              "      <th>48</th>\n",
              "      <td>web developer</td>\n",
              "      <td>34</td>\n",
              "    </tr>\n",
              "  </tbody>\n",
              "</table>\n",
              "</div>\n",
              "      <button class=\"colab-df-convert\" onclick=\"convertToInteractive('df-b2d877ee-8234-4e6f-83dd-9e33cbeecbb2')\"\n",
              "              title=\"Convert this dataframe to an interactive table.\"\n",
              "              style=\"display:none;\">\n",
              "        \n",
              "  <svg xmlns=\"http://www.w3.org/2000/svg\" height=\"24px\"viewBox=\"0 0 24 24\"\n",
              "       width=\"24px\">\n",
              "    <path d=\"M0 0h24v24H0V0z\" fill=\"none\"/>\n",
              "    <path d=\"M18.56 5.44l.94 2.06.94-2.06 2.06-.94-2.06-.94-.94-2.06-.94 2.06-2.06.94zm-11 1L8.5 8.5l.94-2.06 2.06-.94-2.06-.94L8.5 2.5l-.94 2.06-2.06.94zm10 10l.94 2.06.94-2.06 2.06-.94-2.06-.94-.94-2.06-.94 2.06-2.06.94z\"/><path d=\"M17.41 7.96l-1.37-1.37c-.4-.4-.92-.59-1.43-.59-.52 0-1.04.2-1.43.59L10.3 9.45l-7.72 7.72c-.78.78-.78 2.05 0 2.83L4 21.41c.39.39.9.59 1.41.59.51 0 1.02-.2 1.41-.59l7.78-7.78 2.81-2.81c.8-.78.8-2.07 0-2.86zM5.41 20L4 18.59l7.72-7.72 1.47 1.35L5.41 20z\"/>\n",
              "  </svg>\n",
              "      </button>\n",
              "      \n",
              "  <style>\n",
              "    .colab-df-container {\n",
              "      display:flex;\n",
              "      flex-wrap:wrap;\n",
              "      gap: 12px;\n",
              "    }\n",
              "\n",
              "    .colab-df-convert {\n",
              "      background-color: #E8F0FE;\n",
              "      border: none;\n",
              "      border-radius: 50%;\n",
              "      cursor: pointer;\n",
              "      display: none;\n",
              "      fill: #1967D2;\n",
              "      height: 32px;\n",
              "      padding: 0 0 0 0;\n",
              "      width: 32px;\n",
              "    }\n",
              "\n",
              "    .colab-df-convert:hover {\n",
              "      background-color: #E2EBFA;\n",
              "      box-shadow: 0px 1px 2px rgba(60, 64, 67, 0.3), 0px 1px 3px 1px rgba(60, 64, 67, 0.15);\n",
              "      fill: #174EA6;\n",
              "    }\n",
              "\n",
              "    [theme=dark] .colab-df-convert {\n",
              "      background-color: #3B4455;\n",
              "      fill: #D2E3FC;\n",
              "    }\n",
              "\n",
              "    [theme=dark] .colab-df-convert:hover {\n",
              "      background-color: #434B5C;\n",
              "      box-shadow: 0px 1px 3px 1px rgba(0, 0, 0, 0.15);\n",
              "      filter: drop-shadow(0px 1px 2px rgba(0, 0, 0, 0.3));\n",
              "      fill: #FFFFFF;\n",
              "    }\n",
              "  </style>\n",
              "\n",
              "      <script>\n",
              "        const buttonEl =\n",
              "          document.querySelector('#df-b2d877ee-8234-4e6f-83dd-9e33cbeecbb2 button.colab-df-convert');\n",
              "        buttonEl.style.display =\n",
              "          google.colab.kernel.accessAllowed ? 'block' : 'none';\n",
              "\n",
              "        async function convertToInteractive(key) {\n",
              "          const element = document.querySelector('#df-b2d877ee-8234-4e6f-83dd-9e33cbeecbb2');\n",
              "          const dataTable =\n",
              "            await google.colab.kernel.invokeFunction('convertToInteractive',\n",
              "                                                     [key], {});\n",
              "          if (!dataTable) return;\n",
              "\n",
              "          const docLinkHtml = 'Like what you see? Visit the ' +\n",
              "            '<a target=\"_blank\" href=https://colab.research.google.com/notebooks/data_table.ipynb>data table notebook</a>'\n",
              "            + ' to learn more about interactive tables.';\n",
              "          element.innerHTML = '';\n",
              "          dataTable['output_type'] = 'display_data';\n",
              "          await google.colab.output.renderOutput(dataTable, element);\n",
              "          const docLink = document.createElement('div');\n",
              "          docLink.innerHTML = docLinkHtml;\n",
              "          element.appendChild(docLink);\n",
              "        }\n",
              "      </script>\n",
              "    </div>\n",
              "  </div>\n",
              "  "
            ]
          },
          "metadata": {},
          "execution_count": 881
        }
      ]
    },
    {
      "cell_type": "markdown",
      "source": [
        "# lấy các dữ liệu code"
      ],
      "metadata": {
        "id": "9SPC0YQFqryU"
      }
    },
    {
      "cell_type": "code",
      "source": [
        "dataTrain1 = dataTrain[['types_codes', 'skill_cut_codes', 'City_codes','District_codes', 'experienceSub_codes']]"
      ],
      "metadata": {
        "id": "DzTzeccmpHBH"
      },
      "execution_count": null,
      "outputs": []
    },
    {
      "cell_type": "code",
      "source": [
        "dataTrain1.head()"
      ],
      "metadata": {
        "colab": {
          "base_uri": "https://localhost:8080/",
          "height": 206
        },
        "id": "mVctKiSNqwT4",
        "outputId": "09f9bfbd-dd36-4dbc-f590-f0a803b25b6b"
      },
      "execution_count": null,
      "outputs": [
        {
          "output_type": "execute_result",
          "data": {
            "text/plain": [
              "   types_codes  skill_cut_codes  City_codes  District_codes  \\\n",
              "0           23                0           2               2   \n",
              "1           23                0           2               2   \n",
              "2           23               64           2               2   \n",
              "3           23               64           2               2   \n",
              "4           23                5           2               2   \n",
              "\n",
              "   experienceSub_codes  \n",
              "0                    6  \n",
              "1                    6  \n",
              "2                    6  \n",
              "3                    6  \n",
              "4                    6  "
            ],
            "text/html": [
              "\n",
              "  <div id=\"df-e8cdd7ee-4240-49fa-878b-0fdd13d50ed7\">\n",
              "    <div class=\"colab-df-container\">\n",
              "      <div>\n",
              "<style scoped>\n",
              "    .dataframe tbody tr th:only-of-type {\n",
              "        vertical-align: middle;\n",
              "    }\n",
              "\n",
              "    .dataframe tbody tr th {\n",
              "        vertical-align: top;\n",
              "    }\n",
              "\n",
              "    .dataframe thead th {\n",
              "        text-align: right;\n",
              "    }\n",
              "</style>\n",
              "<table border=\"1\" class=\"dataframe\">\n",
              "  <thead>\n",
              "    <tr style=\"text-align: right;\">\n",
              "      <th></th>\n",
              "      <th>types_codes</th>\n",
              "      <th>skill_cut_codes</th>\n",
              "      <th>City_codes</th>\n",
              "      <th>District_codes</th>\n",
              "      <th>experienceSub_codes</th>\n",
              "    </tr>\n",
              "  </thead>\n",
              "  <tbody>\n",
              "    <tr>\n",
              "      <th>0</th>\n",
              "      <td>23</td>\n",
              "      <td>0</td>\n",
              "      <td>2</td>\n",
              "      <td>2</td>\n",
              "      <td>6</td>\n",
              "    </tr>\n",
              "    <tr>\n",
              "      <th>1</th>\n",
              "      <td>23</td>\n",
              "      <td>0</td>\n",
              "      <td>2</td>\n",
              "      <td>2</td>\n",
              "      <td>6</td>\n",
              "    </tr>\n",
              "    <tr>\n",
              "      <th>2</th>\n",
              "      <td>23</td>\n",
              "      <td>64</td>\n",
              "      <td>2</td>\n",
              "      <td>2</td>\n",
              "      <td>6</td>\n",
              "    </tr>\n",
              "    <tr>\n",
              "      <th>3</th>\n",
              "      <td>23</td>\n",
              "      <td>64</td>\n",
              "      <td>2</td>\n",
              "      <td>2</td>\n",
              "      <td>6</td>\n",
              "    </tr>\n",
              "    <tr>\n",
              "      <th>4</th>\n",
              "      <td>23</td>\n",
              "      <td>5</td>\n",
              "      <td>2</td>\n",
              "      <td>2</td>\n",
              "      <td>6</td>\n",
              "    </tr>\n",
              "  </tbody>\n",
              "</table>\n",
              "</div>\n",
              "      <button class=\"colab-df-convert\" onclick=\"convertToInteractive('df-e8cdd7ee-4240-49fa-878b-0fdd13d50ed7')\"\n",
              "              title=\"Convert this dataframe to an interactive table.\"\n",
              "              style=\"display:none;\">\n",
              "        \n",
              "  <svg xmlns=\"http://www.w3.org/2000/svg\" height=\"24px\"viewBox=\"0 0 24 24\"\n",
              "       width=\"24px\">\n",
              "    <path d=\"M0 0h24v24H0V0z\" fill=\"none\"/>\n",
              "    <path d=\"M18.56 5.44l.94 2.06.94-2.06 2.06-.94-2.06-.94-.94-2.06-.94 2.06-2.06.94zm-11 1L8.5 8.5l.94-2.06 2.06-.94-2.06-.94L8.5 2.5l-.94 2.06-2.06.94zm10 10l.94 2.06.94-2.06 2.06-.94-2.06-.94-.94-2.06-.94 2.06-2.06.94z\"/><path d=\"M17.41 7.96l-1.37-1.37c-.4-.4-.92-.59-1.43-.59-.52 0-1.04.2-1.43.59L10.3 9.45l-7.72 7.72c-.78.78-.78 2.05 0 2.83L4 21.41c.39.39.9.59 1.41.59.51 0 1.02-.2 1.41-.59l7.78-7.78 2.81-2.81c.8-.78.8-2.07 0-2.86zM5.41 20L4 18.59l7.72-7.72 1.47 1.35L5.41 20z\"/>\n",
              "  </svg>\n",
              "      </button>\n",
              "      \n",
              "  <style>\n",
              "    .colab-df-container {\n",
              "      display:flex;\n",
              "      flex-wrap:wrap;\n",
              "      gap: 12px;\n",
              "    }\n",
              "\n",
              "    .colab-df-convert {\n",
              "      background-color: #E8F0FE;\n",
              "      border: none;\n",
              "      border-radius: 50%;\n",
              "      cursor: pointer;\n",
              "      display: none;\n",
              "      fill: #1967D2;\n",
              "      height: 32px;\n",
              "      padding: 0 0 0 0;\n",
              "      width: 32px;\n",
              "    }\n",
              "\n",
              "    .colab-df-convert:hover {\n",
              "      background-color: #E2EBFA;\n",
              "      box-shadow: 0px 1px 2px rgba(60, 64, 67, 0.3), 0px 1px 3px 1px rgba(60, 64, 67, 0.15);\n",
              "      fill: #174EA6;\n",
              "    }\n",
              "\n",
              "    [theme=dark] .colab-df-convert {\n",
              "      background-color: #3B4455;\n",
              "      fill: #D2E3FC;\n",
              "    }\n",
              "\n",
              "    [theme=dark] .colab-df-convert:hover {\n",
              "      background-color: #434B5C;\n",
              "      box-shadow: 0px 1px 3px 1px rgba(0, 0, 0, 0.15);\n",
              "      filter: drop-shadow(0px 1px 2px rgba(0, 0, 0, 0.3));\n",
              "      fill: #FFFFFF;\n",
              "    }\n",
              "  </style>\n",
              "\n",
              "      <script>\n",
              "        const buttonEl =\n",
              "          document.querySelector('#df-e8cdd7ee-4240-49fa-878b-0fdd13d50ed7 button.colab-df-convert');\n",
              "        buttonEl.style.display =\n",
              "          google.colab.kernel.accessAllowed ? 'block' : 'none';\n",
              "\n",
              "        async function convertToInteractive(key) {\n",
              "          const element = document.querySelector('#df-e8cdd7ee-4240-49fa-878b-0fdd13d50ed7');\n",
              "          const dataTable =\n",
              "            await google.colab.kernel.invokeFunction('convertToInteractive',\n",
              "                                                     [key], {});\n",
              "          if (!dataTable) return;\n",
              "\n",
              "          const docLinkHtml = 'Like what you see? Visit the ' +\n",
              "            '<a target=\"_blank\" href=https://colab.research.google.com/notebooks/data_table.ipynb>data table notebook</a>'\n",
              "            + ' to learn more about interactive tables.';\n",
              "          element.innerHTML = '';\n",
              "          dataTable['output_type'] = 'display_data';\n",
              "          await google.colab.output.renderOutput(dataTable, element);\n",
              "          const docLink = document.createElement('div');\n",
              "          docLink.innerHTML = docLinkHtml;\n",
              "          element.appendChild(docLink);\n",
              "        }\n",
              "      </script>\n",
              "    </div>\n",
              "  </div>\n",
              "  "
            ]
          },
          "metadata": {},
          "execution_count": 883
        }
      ]
    },
    {
      "cell_type": "code",
      "source": [
        "# plotting correlation heatmap\n",
        "dataplot = sns.heatmap(dataTrain1.corr(), cmap=\"YlGnBu\", annot=True)\n",
        "  \n",
        "# displaying heatmap\n",
        "plt.show()"
      ],
      "metadata": {
        "colab": {
          "base_uri": "https://localhost:8080/",
          "height": 382
        },
        "id": "arVx8v2vqy5R",
        "outputId": "e26f173a-0a6a-48e8-883a-362a3d8db2c2"
      },
      "execution_count": null,
      "outputs": [
        {
          "output_type": "display_data",
          "data": {
            "text/plain": [
              "<Figure size 432x288 with 2 Axes>"
            ],
            "image/png": "[encoded data removed]"
          },
          "metadata": {}
        }
      ]
    },
    {
      "cell_type": "markdown",
      "source": [
        "# Train and test split"
      ],
      "metadata": {
        "id": "27uhMxJfq_l7"
      }
    },
    {
      "cell_type": "code",
      "source": [
        "X = dataTrain1.drop('types_codes', axis = 1)\n",
        "y = dataTrain1['types_codes']"
      ],
      "metadata": {
        "id": "5BO01tIbq0nR"
      },
      "execution_count": null,
      "outputs": []
    },
    {
      "cell_type": "code",
      "source": [
        "X_train, X_test, y_train,y_test = train_test_split(X, y, test_size=0.2, random_state=42)\n",
        "print(X_train.shape,X_test.shape, y_train.shape,y_test.shape )"
      ],
      "metadata": {
        "colab": {
          "base_uri": "https://localhost:8080/"
        },
        "id": "ycJBsVoZrFzC",
        "outputId": "4bc5a9ec-9409-47d5-ff96-ee8ee7ebc9ca"
      },
      "execution_count": null,
      "outputs": [
        {
          "output_type": "stream",
          "name": "stdout",
          "text": [
            "(10035, 4) (2509, 4) (10035,) (2509,)\n"
          ]
        }
      ]
    },
    {
      "cell_type": "markdown",
      "source": [
        "#### 1. Classification."
      ],
      "metadata": {
        "id": "1GdKaLk-rJCK"
      }
    },
    {
      "cell_type": "code",
      "source": [
        "# tạo obj để phân loại cây quyết định\n",
        "clf = DecisionTreeClassifier()\n",
        "\n",
        "# đào tạo lớp phân loại\n",
        "clf = clf.fit(X_train,y_train)\n",
        "\n",
        "#sử dụng bộ test để dự đoán\n",
        "y_pred = clf.predict(X_test)"
      ],
      "metadata": {
        "id": "kcCm-rs7rHR4"
      },
      "execution_count": null,
      "outputs": []
    },
    {
      "cell_type": "code",
      "source": [
        "# Model Accuracy, how often is the classifier correct?\n",
        "decision = metrics.accuracy_score(y_test, y_pred)\n",
        "print(\"Accuracy:\", decision)"
      ],
      "metadata": {
        "colab": {
          "base_uri": "https://localhost:8080/"
        },
        "id": "JREoZ1_lrabP",
        "outputId": "36e76465-42b3-4637-f8f3-419246fe80f2"
      },
      "execution_count": null,
      "outputs": [
        {
          "output_type": "stream",
          "name": "stdout",
          "text": [
            "Accuracy: 0.6982861697887605\n"
          ]
        }
      ]
    },
    {
      "cell_type": "markdown",
      "source": [
        "### 2. logisticRegression."
      ],
      "metadata": {
        "id": "ffRs9Bdwrey-"
      }
    },
    {
      "cell_type": "code",
      "source": [
        "from sklearn.linear_model import LogisticRegression"
      ],
      "metadata": {
        "id": "WEjXm0ZMrcMm"
      },
      "execution_count": null,
      "outputs": []
    },
    {
      "cell_type": "code",
      "source": [
        "modelLg = LogisticRegression()\n",
        "\n",
        "modelLg.fit(X_train,y_train)\n",
        "\n",
        "predLg = modelLg.predict(X_test)"
      ],
      "metadata": {
        "colab": {
          "base_uri": "https://localhost:8080/"
        },
        "id": "2Hc48uh3rg0m",
        "outputId": "a9f61f0d-0c0d-4b09-9c02-144cf2d13f6e"
      },
      "execution_count": null,
      "outputs": [
        {
          "output_type": "stream",
          "name": "stderr",
          "text": [
            "/usr/local/lib/python3.7/dist-packages/sklearn/linear_model/_logistic.py:818: ConvergenceWarning: lbfgs failed to converge (status=1):\n",
            "STOP: TOTAL NO. of ITERATIONS REACHED LIMIT.\n",
            "\n",
            "Increase the number of iterations (max_iter) or scale the data as shown in:\n",
            "    https://scikit-learn.org/stable/modules/preprocessing.html\n",
            "Please also refer to the documentation for alternative solver options:\n",
            "    https://scikit-learn.org/stable/modules/linear_model.html#logistic-regression\n",
            "  extra_warning_msg=_LOGISTIC_SOLVER_CONVERGENCE_MSG,\n"
          ]
        }
      ]
    },
    {
      "cell_type": "code",
      "source": [
        "lg =metrics.accuracy_score(y_test, predLg)\n",
        "print(\"Accuracy:\", lg)"
      ],
      "metadata": {
        "colab": {
          "base_uri": "https://localhost:8080/"
        },
        "id": "UA7HioV7riTU",
        "outputId": "bb23d05b-6fcc-45ba-c287-ff45528cfaec"
      },
      "execution_count": null,
      "outputs": [
        {
          "output_type": "stream",
          "name": "stdout",
          "text": [
            "Accuracy: 0.24591470705460342\n"
          ]
        }
      ]
    },
    {
      "cell_type": "markdown",
      "source": [
        "### 3. Support Vector Machines"
      ],
      "metadata": {
        "id": "ZnjX3KQ-roFa"
      }
    },
    {
      "cell_type": "code",
      "source": [
        "from sklearn import svm"
      ],
      "metadata": {
        "id": "USqdMjbsrl_B"
      },
      "execution_count": null,
      "outputs": []
    },
    {
      "cell_type": "code",
      "source": [
        "model_svm = svm.SVC()\n",
        "\n",
        "model_svm.fit(X_train,y_train)\n",
        "\n",
        "pred_svm = model_svm.predict(X_test)"
      ],
      "metadata": {
        "id": "bTXCav7DrqU2"
      },
      "execution_count": null,
      "outputs": []
    },
    {
      "cell_type": "code",
      "source": [
        "# Model Accuracy\n",
        "svm = metrics.accuracy_score(y_test, pred_svm)\n",
        "print(\"Accuracy:\", svm)"
      ],
      "metadata": {
        "colab": {
          "base_uri": "https://localhost:8080/"
        },
        "id": "cx5GxlKYrrr9",
        "outputId": "fecd6086-d028-4b50-8ad9-f478cead2007"
      },
      "execution_count": null,
      "outputs": [
        {
          "output_type": "stream",
          "name": "stdout",
          "text": [
            "Accuracy: 0.2510960542048625\n"
          ]
        }
      ]
    },
    {
      "cell_type": "markdown",
      "source": [
        "### 4. KNN"
      ],
      "metadata": {
        "id": "AhHY7EoIsW6H"
      }
    },
    {
      "cell_type": "code",
      "source": [
        "from sklearn.neighbors import KNeighborsClassifier\n"
      ],
      "metadata": {
        "id": "x9C7SBgorxKR"
      },
      "execution_count": null,
      "outputs": []
    },
    {
      "cell_type": "code",
      "source": [
        "# xây dựng mô hình knn sử dụng tham số neighbor để lấy các điểm lân cận gần nhất\n",
        "# Create neighbors\n",
        "neighbors = np.arange(1, 13)\n",
        "train_accuracies = {}\n",
        "test_accuracies = {}\n",
        "\n",
        "for neighbor in neighbors:\n",
        "  \n",
        "    # Set up a KNN Classifier\n",
        "    knn = KNeighborsClassifier(n_neighbors=neighbor)\n",
        "  \n",
        "    # Fit the model\n",
        "    knn.fit(X_train, y_train)\n",
        "  \n",
        "    # Compute accuracy\n",
        "    train_accuracies[neighbor] = knn.score(X_train, y_train)\n",
        "    test_accuracies[neighbor] = knn.score(X_test, y_test)\n",
        "print(neighbors, '\\n', train_accuracies, '\\n', test_accuracies)"
      ],
      "metadata": {
        "colab": {
          "base_uri": "https://localhost:8080/"
        },
        "id": "ydPTD9rVsbwD",
        "outputId": "a8f03dd2-4a85-4f06-9747-e8821726b2c0"
      },
      "execution_count": null,
      "outputs": [
        {
          "output_type": "stream",
          "name": "stdout",
          "text": [
            "[ 1  2  3  4  5  6  7  8  9 10 11 12] \n",
            " {1: 0.6771300448430493, 2: 0.6739412057797708, 3: 0.6857997010463378, 4: 0.6789237668161435, 5: 0.679920279023418, 6: 0.6704534130543099, 7: 0.6620827105132038, 8: 0.6511210762331838, 9: 0.6371699053313403, 10: 0.6321873442949676, 11: 0.6166417538614848, 12: 0.6034877927254609} \n",
            " {1: 0.6396970904742926, 2: 0.625348744519729, 3: 0.6177760063770427, 4: 0.60263053009167, 5: 0.6006377042646472, 6: 0.5823037066560383, 7: 0.5667596652052611, 8: 0.5699481865284974, 9: 0.5552012754085293, 10: 0.5544041450777202, 11: 0.5392586687923475, 12: 0.5304902351534476}\n"
          ]
        }
      ]
    },
    {
      "cell_type": "code",
      "source": [
        "\n",
        "plt.title(\"KNN: Varying Number of Neighbors\")\n",
        "\n",
        "# vẽ đường train accuracies\n",
        "plt.plot(list(neighbors), list(train_accuracies.values()), label=\"Training Accuracy\")\n",
        "\n",
        "# vex đường test accuracies\n",
        "plt.plot(list(neighbors), list(test_accuracies.values()), label=\"Testing Accuracy\")\n",
        "\n",
        "plt.legend()\n",
        "plt.xlabel(\"Number of Neighbors\")\n",
        "plt.ylabel(\"Accuracy\")\n",
        "\n",
        "# hiển thị biểu đồ\n",
        "plt.show()"
      ],
      "metadata": {
        "colab": {
          "base_uri": "https://localhost:8080/",
          "height": 301
        },
        "id": "CJRmcANksdtP",
        "outputId": "f16efde0-4fd2-43f3-affc-6b876d89e1f5"
      },
      "execution_count": null,
      "outputs": [
        {
          "output_type": "display_data",
          "data": {
            "text/plain": [
              "<Figure size 432x288 with 1 Axes>"
            ],
            "image/png": "[encoded data removed]"
          },
          "metadata": {}
        }
      ]
    },
    {
      "cell_type": "markdown",
      "source": [
        "Nhìn vào biểu đồ ta thấy ở number of neighbors = 3 có Accuracy tốt nhất. Vì vậy tham số truyền vào sẽ là 3"
      ],
      "metadata": {
        "id": "kHUOQLJmtOZL"
      }
    },
    {
      "cell_type": "code",
      "source": [
        "# Set up a KNN Classifier\n",
        "knn = KNeighborsClassifier(n_neighbors=3)\n",
        "\n",
        "knn.fit(X_train, y_train)\n",
        "\n",
        "predKnn = knn.predict(X_test)"
      ],
      "metadata": {
        "id": "f2u5YUmKsiSB"
      },
      "execution_count": null,
      "outputs": []
    },
    {
      "cell_type": "code",
      "source": [
        "# Model Accuracy, how often is the classifier correct?\n",
        "knn = metrics.accuracy_score(y_test, predKnn)\n",
        "print(\"Accuracy:\",knn)"
      ],
      "metadata": {
        "colab": {
          "base_uri": "https://localhost:8080/"
        },
        "id": "pO_Mzi9Htvhe",
        "outputId": "5a332839-2d9f-425d-e164-f5d0be13ca14"
      },
      "execution_count": null,
      "outputs": [
        {
          "output_type": "stream",
          "name": "stdout",
          "text": [
            "Accuracy: 0.6177760063770427\n"
          ]
        }
      ]
    },
    {
      "cell_type": "markdown",
      "source": [
        "### 5. ANN"
      ],
      "metadata": {
        "id": "p55rqDFHuTI0"
      }
    },
    {
      "cell_type": "code",
      "source": [
        "from sklearn.neural_network import MLPClassifier"
      ],
      "metadata": {
        "id": "pv6zwm8ruOc4"
      },
      "execution_count": null,
      "outputs": []
    },
    {
      "cell_type": "code",
      "source": [
        "modelAnn = MLPClassifier(solver='lbfgs', alpha=1e-5, hidden_layer_sizes=(5, 2), random_state=1)"
      ],
      "metadata": {
        "id": "SJJJr2__uVso"
      },
      "execution_count": null,
      "outputs": []
    },
    {
      "cell_type": "code",
      "source": [
        "modelAnn.fit(X_train, y_train)"
      ],
      "metadata": {
        "colab": {
          "base_uri": "https://localhost:8080/"
        },
        "id": "jAqK2DvhufFx",
        "outputId": "e1c9ee6a-e5ee-41f0-eea3-e206478a27e3"
      },
      "execution_count": null,
      "outputs": [
        {
          "output_type": "stream",
          "name": "stderr",
          "text": [
            "/usr/local/lib/python3.7/dist-packages/sklearn/neural_network/_multilayer_perceptron.py:549: ConvergenceWarning: lbfgs failed to converge (status=1):\n",
            "STOP: TOTAL NO. of ITERATIONS REACHED LIMIT.\n",
            "\n",
            "Increase the number of iterations (max_iter) or scale the data as shown in:\n",
            "    https://scikit-learn.org/stable/modules/preprocessing.html\n",
            "  self.n_iter_ = _check_optimize_result(\"lbfgs\", opt_res, self.max_iter)\n"
          ]
        },
        {
          "output_type": "execute_result",
          "data": {
            "text/plain": [
              "MLPClassifier(alpha=1e-05, hidden_layer_sizes=(5, 2), random_state=1,\n",
              "              solver='lbfgs')"
            ]
          },
          "metadata": {},
          "execution_count": 902
        }
      ]
    },
    {
      "cell_type": "code",
      "source": [
        "predAnn = modelAnn.predict(X_test)"
      ],
      "metadata": {
        "id": "cHqltOjauhZ4"
      },
      "execution_count": null,
      "outputs": []
    },
    {
      "cell_type": "code",
      "source": [
        "# Model Accuracy, how often is the classifier correct?\n",
        "ann = metrics.accuracy_score(y_test, predAnn)\n",
        "print(\"Accuracy:\",ann)"
      ],
      "metadata": {
        "colab": {
          "base_uri": "https://localhost:8080/"
        },
        "id": "mgKjjFPGukTo",
        "outputId": "7ec4522a-b55b-4387-cb71-3d8a1c356e55"
      },
      "execution_count": null,
      "outputs": [
        {
          "output_type": "stream",
          "name": "stdout",
          "text": [
            "Accuracy: 0.2510960542048625\n"
          ]
        }
      ]
    },
    {
      "cell_type": "markdown",
      "source": [
        "# Vẽ mô hình dự đoán"
      ],
      "metadata": {
        "id": "VPi4Y2UwusfN"
      }
    },
    {
      "cell_type": "code",
      "source": [
        "valuePredict = [decision, lg, svm, knn, ann]\n",
        "label = ['Decision Tree', 'Logistics regression', 'SVM', 'KNN', 'ANN']"
      ],
      "metadata": {
        "id": "S4p1zdIhumvU"
      },
      "execution_count": null,
      "outputs": []
    },
    {
      "cell_type": "code",
      "source": [
        "fig = plt.figure(figsize = (15,8))\n",
        "plt.title(\"biểu đồ model predict\")\n",
        "sns.lineplot(x = label, y = valuePredict)\n",
        "plt.ylabel(\"giá trị predict tên model\")\n",
        "plt.xlabel(\"tên model\")\n",
        "plt.show()"
      ],
      "metadata": {
        "colab": {
          "base_uri": "https://localhost:8080/",
          "height": 519
        },
        "id": "a6JpXHcBuyY9",
        "outputId": "dc844f3c-2869-402d-baaf-c6c5f2244c0b"
      },
      "execution_count": null,
      "outputs": [
        {
          "output_type": "display_data",
          "data": {
            "text/plain": [
              "<Figure size 1080x576 with 1 Axes>"
            ],
            "image/png": "[encoded data removed]"
          },
          "metadata": {}
        }
      ]
    },
    {
      "cell_type": "markdown",
      "source": [
        "Dựa vào biểu đồ ta nhận thấy có Decision Tree có độ chính xác cao nhất"
      ],
      "metadata": {
        "id": "C1D7lZ8Sv8UI"
      }
    },
    {
      "cell_type": "code",
      "source": [],
      "metadata": {
        "id": "p2ky2ti7u1DZ"
      },
      "execution_count": null,
      "outputs": []
    }
  ]
}